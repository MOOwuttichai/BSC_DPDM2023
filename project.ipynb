{
  "nbformat": 4,
  "nbformat_minor": 0,
  "metadata": {
    "colab": {
      "provenance": [],
      "authorship_tag": "ABX9TyOAHdUXPsRK2AzuayDN+3fh",
      "include_colab_link": true
    },
    "kernelspec": {
      "name": "python3",
      "display_name": "Python 3"
    },
    "language_info": {
      "name": "python"
    }
  },
  "cells": [
    {
      "cell_type": "markdown",
      "metadata": {
        "id": "view-in-github",
        "colab_type": "text"
      },
      "source": [
        "<a href=\"https://colab.research.google.com/github/MOOwuttichai/BSC_DPDM2023/blob/main/project.ipynb\" target=\"_parent\"><img src=\"https://colab.research.google.com/assets/colab-badge.svg\" alt=\"Open In Colab\"/></a>"
      ]
    },
    {
      "cell_type": "code",
      "source": [
        "from google.colab import drive\n",
        "drive.mount('/content/drive')"
      ],
      "metadata": {
        "colab": {
          "base_uri": "https://localhost:8080/"
        },
        "id": "OfQilW_xbEHi",
        "outputId": "af0a8afb-13dc-4886-86b3-7cc4f64d2d30"
      },
      "execution_count": 41,
      "outputs": [
        {
          "output_type": "stream",
          "name": "stdout",
          "text": [
            "Drive already mounted at /content/drive; to attempt to forcibly remount, call drive.mount(\"/content/drive\", force_remount=True).\n"
          ]
        }
      ]
    },
    {
      "cell_type": "code",
      "source": [
        "import pandas as pd"
      ],
      "metadata": {
        "id": "SGGOwPHZbcGU"
      },
      "execution_count": 42,
      "outputs": []
    },
    {
      "cell_type": "code",
      "source": [
        "data_65=pd.read_excel(\"/content/drive/MyDrive/BSC-dpdm23_flie/project/accidentmonth.xlsx\")\n",
        "data_64=pd.read_excel(\"/content/drive/MyDrive/BSC-dpdm23_flie/project/kh-muul-ubatiehtubnthaangphiess-piingbpramaan-2564-t-kh-63-k-y-64.xlsx\")\n",
        "data_63=pd.read_excel(\"/content/drive/MyDrive/BSC-dpdm23_flie/project/kh-muul-ubatiehtubnthaangphiess-piingbpramaan-2563-t-kh-62-k-y-63.xlsx\")\n",
        "data_62=pd.read_excel(\"/content/drive/MyDrive/BSC-dpdm23_flie/project/kh-muul-ubatiehtubnthaangphiess-piingbpramaan-2562-t-kh-61-k-y-62.xlsx\")\n",
        "data_61=pd.read_excel(\"/content/drive/MyDrive/BSC-dpdm23_flie/project/kh-muul-ubatiehtubnthaangphiess-piingbpramaan-2561-t-kh-60-k-y-61.xlsx\")\n",
        "data_60=pd.read_excel(\"/content/drive/MyDrive/BSC-dpdm23_flie/project/kh-muul-ubatiehtubnthaangphiess-piingbpramaan-2560-t-kh-59-k-y-60.xlsx\")\n",
        "data_59=pd.read_excel(\"/content/drive/MyDrive/BSC-dpdm23_flie/project/kh-muul-ubatiehtubnthaangphiess-piingbpramaan-2559-t-kh-58-k-y-59.xlsx\")\n"
      ],
      "metadata": {
        "id": "7hM9Q5FXfRge"
      },
      "execution_count": 43,
      "outputs": []
    },
    {
      "cell_type": "code",
      "source": [
        "data_65.isnull().any()"
      ],
      "metadata": {
        "colab": {
          "base_uri": "https://localhost:8080/"
        },
        "id": "kO-uPlqGiCU9",
        "outputId": "8ae0c1fc-9aa9-48f2-d576-a43e02f48b70"
      },
      "execution_count": 44,
      "outputs": [
        {
          "output_type": "execute_result",
          "data": {
            "text/plain": [
              "accident_date    False\n",
              "accident_time    False\n",
              "expw_step        False\n",
              "weather_state    False\n",
              "injur_man        False\n",
              "injur_femel      False\n",
              "dead_man         False\n",
              "dead_femel       False\n",
              "cause            False\n",
              "dtype: bool"
            ]
          },
          "metadata": {},
          "execution_count": 44
        }
      ]
    },
    {
      "cell_type": "code",
      "source": [
        "data_64.isnull().any()"
      ],
      "metadata": {
        "colab": {
          "base_uri": "https://localhost:8080/"
        },
        "id": "i2jPr61ciSIN",
        "outputId": "bd4aa730-fb00-46b8-b13e-c4d2405a64a5"
      },
      "execution_count": 45,
      "outputs": [
        {
          "output_type": "execute_result",
          "data": {
            "text/plain": [
              "accident_date    False\n",
              "accident_time    False\n",
              "step             False\n",
              "ad_state         False\n",
              "acman_rec        False\n",
              "acfem_rec        False\n",
              "deadman_rec      False\n",
              "deadfem_rec      False\n",
              "cause_type       False\n",
              "dtype: bool"
            ]
          },
          "metadata": {},
          "execution_count": 45
        }
      ]
    },
    {
      "cell_type": "code",
      "source": [
        "data_63.isnull().any()"
      ],
      "metadata": {
        "colab": {
          "base_uri": "https://localhost:8080/"
        },
        "id": "Gw68AImDiUgV",
        "outputId": "7e5abdcc-8804-4534-d09d-37e62ac63c5f"
      },
      "execution_count": 46,
      "outputs": [
        {
          "output_type": "execute_result",
          "data": {
            "text/plain": [
              "accident_date    False\n",
              "accident_time    False\n",
              "expw_step        False\n",
              "weather_state    False\n",
              "injur_man        False\n",
              "injur_femel      False\n",
              "dead_man         False\n",
              "dead_femel       False\n",
              "cause            False\n",
              "dtype: bool"
            ]
          },
          "metadata": {},
          "execution_count": 46
        }
      ]
    },
    {
      "cell_type": "code",
      "source": [
        "data_62.isnull().any()"
      ],
      "metadata": {
        "colab": {
          "base_uri": "https://localhost:8080/"
        },
        "id": "W5xt7OwKiUy7",
        "outputId": "ae8b97d9-ca6b-4efd-9a58-ed17f61db02e"
      },
      "execution_count": 47,
      "outputs": [
        {
          "output_type": "execute_result",
          "data": {
            "text/plain": [
              "accident_date    False\n",
              "accident_time    False\n",
              "expw_step        False\n",
              "weather_state    False\n",
              "injur_man        False\n",
              "injur_femel      False\n",
              "dead_man         False\n",
              "dead_femel       False\n",
              "cause            False\n",
              "dtype: bool"
            ]
          },
          "metadata": {},
          "execution_count": 47
        }
      ]
    },
    {
      "cell_type": "code",
      "source": [
        "data_61.isnull().any()"
      ],
      "metadata": {
        "colab": {
          "base_uri": "https://localhost:8080/"
        },
        "id": "evRMMtPuiVQE",
        "outputId": "3020e854-a8b6-46e3-96a7-720295aca05f"
      },
      "execution_count": 48,
      "outputs": [
        {
          "output_type": "execute_result",
          "data": {
            "text/plain": [
              "accident_date    False\n",
              "accident_time    False\n",
              "expw_step        False\n",
              "weather_state    False\n",
              "injur_man        False\n",
              "injur_femel      False\n",
              "dead_man         False\n",
              "dead_femel       False\n",
              "cause            False\n",
              "dtype: bool"
            ]
          },
          "metadata": {},
          "execution_count": 48
        }
      ]
    },
    {
      "cell_type": "code",
      "source": [
        "data_60.isnull().any()"
      ],
      "metadata": {
        "colab": {
          "base_uri": "https://localhost:8080/"
        },
        "id": "TYgEgsx7iVqs",
        "outputId": "bb437e99-854a-4ba7-dfaa-157a2760885e"
      },
      "execution_count": 49,
      "outputs": [
        {
          "output_type": "execute_result",
          "data": {
            "text/plain": [
              "accident_date    False\n",
              "accident_time    False\n",
              "expw_step        False\n",
              "weather_state    False\n",
              "injur_man        False\n",
              "injur_femel      False\n",
              "dead_man         False\n",
              "dead_femel       False\n",
              "cause            False\n",
              "dtype: bool"
            ]
          },
          "metadata": {},
          "execution_count": 49
        }
      ]
    },
    {
      "cell_type": "code",
      "source": [
        "data_59.isnull().any()"
      ],
      "metadata": {
        "colab": {
          "base_uri": "https://localhost:8080/"
        },
        "id": "y_-2-1k_iWH8",
        "outputId": "33ab5bdf-fc2d-4124-95b1-b5080eb948e7"
      },
      "execution_count": 50,
      "outputs": [
        {
          "output_type": "execute_result",
          "data": {
            "text/plain": [
              "accident_date    False\n",
              "accident_time    False\n",
              "expw_step        False\n",
              "weather_state    False\n",
              "injur_man        False\n",
              "injur_femel      False\n",
              "dead_man         False\n",
              "dead_femel       False\n",
              "cause            False\n",
              "dtype: bool"
            ]
          },
          "metadata": {},
          "execution_count": 50
        }
      ]
    },
    {
      "cell_type": "markdown",
      "source": [
        "## concat ครั้งที่1\n",
        "พบว่ามีบ้าง ปีที่ชื่อ column ไม่ตรงกับตารางอื่นๆ"
      ],
      "metadata": {
        "id": "KT-o9VAimzJT"
      }
    },
    {
      "cell_type": "code",
      "source": [
        "pd.concat([data_59,data_60,data_61,data_62,data_63,data_64]).head()"
      ],
      "metadata": {
        "colab": {
          "base_uri": "https://localhost:8080/",
          "height": 417
        },
        "id": "ZB3NlMh1it8N",
        "outputId": "d522d32d-c1c3-416d-ea8b-ca24687ed7d4"
      },
      "execution_count": 51,
      "outputs": [
        {
          "output_type": "execute_result",
          "data": {
            "text/plain": [
              "  accident_date accident_time expw_step weather_state  injur_man  injur_femel  \\\n",
              "0    2016-03-15      07:23:23    ศรีรัช          ปกติ        0.0          0.0   \n",
              "1    2016-07-27      12:22:22    ศรีรัช          ปกติ        0.0          0.0   \n",
              "2    2015-12-09      14:40:40    ศรีรัช          ปกติ        0.0          0.0   \n",
              "3    2016-08-20      17:01:01    ศรีรัช          ปกติ        0.0          0.0   \n",
              "4    2016-04-23      09:18:18    ศรีรัช          ปกติ        0.0          0.0   \n",
              "\n",
              "   dead_man  dead_femel                      cause step ad_state  acman_rec  \\\n",
              "0       0.0         0.0                โรคประจำตัว  NaN      NaN        NaN   \n",
              "1       0.0         0.0                          -  NaN      NaN        NaN   \n",
              "2       0.0         0.0  ทำโทรศัพย์หล่นแล้วก้มหยิบ  NaN      NaN        NaN   \n",
              "3       0.0         0.0                ก้มหยิบเงิน  NaN      NaN        NaN   \n",
              "4       0.0         0.0                 บรรทุกหนัก  NaN      NaN        NaN   \n",
              "\n",
              "   acfem_rec  deadman_rec  deadfem_rec cause_type  \n",
              "0        NaN          NaN          NaN        NaN  \n",
              "1        NaN          NaN          NaN        NaN  \n",
              "2        NaN          NaN          NaN        NaN  \n",
              "3        NaN          NaN          NaN        NaN  \n",
              "4        NaN          NaN          NaN        NaN  "
            ],
            "text/html": [
              "\n",
              "  <div id=\"df-e021c46f-9f4f-4d87-b21c-32c2bf069372\" class=\"colab-df-container\">\n",
              "    <div>\n",
              "<style scoped>\n",
              "    .dataframe tbody tr th:only-of-type {\n",
              "        vertical-align: middle;\n",
              "    }\n",
              "\n",
              "    .dataframe tbody tr th {\n",
              "        vertical-align: top;\n",
              "    }\n",
              "\n",
              "    .dataframe thead th {\n",
              "        text-align: right;\n",
              "    }\n",
              "</style>\n",
              "<table border=\"1\" class=\"dataframe\">\n",
              "  <thead>\n",
              "    <tr style=\"text-align: right;\">\n",
              "      <th></th>\n",
              "      <th>accident_date</th>\n",
              "      <th>accident_time</th>\n",
              "      <th>expw_step</th>\n",
              "      <th>weather_state</th>\n",
              "      <th>injur_man</th>\n",
              "      <th>injur_femel</th>\n",
              "      <th>dead_man</th>\n",
              "      <th>dead_femel</th>\n",
              "      <th>cause</th>\n",
              "      <th>step</th>\n",
              "      <th>ad_state</th>\n",
              "      <th>acman_rec</th>\n",
              "      <th>acfem_rec</th>\n",
              "      <th>deadman_rec</th>\n",
              "      <th>deadfem_rec</th>\n",
              "      <th>cause_type</th>\n",
              "    </tr>\n",
              "  </thead>\n",
              "  <tbody>\n",
              "    <tr>\n",
              "      <th>0</th>\n",
              "      <td>2016-03-15</td>\n",
              "      <td>07:23:23</td>\n",
              "      <td>ศรีรัช</td>\n",
              "      <td>ปกติ</td>\n",
              "      <td>0.0</td>\n",
              "      <td>0.0</td>\n",
              "      <td>0.0</td>\n",
              "      <td>0.0</td>\n",
              "      <td>โรคประจำตัว</td>\n",
              "      <td>NaN</td>\n",
              "      <td>NaN</td>\n",
              "      <td>NaN</td>\n",
              "      <td>NaN</td>\n",
              "      <td>NaN</td>\n",
              "      <td>NaN</td>\n",
              "      <td>NaN</td>\n",
              "    </tr>\n",
              "    <tr>\n",
              "      <th>1</th>\n",
              "      <td>2016-07-27</td>\n",
              "      <td>12:22:22</td>\n",
              "      <td>ศรีรัช</td>\n",
              "      <td>ปกติ</td>\n",
              "      <td>0.0</td>\n",
              "      <td>0.0</td>\n",
              "      <td>0.0</td>\n",
              "      <td>0.0</td>\n",
              "      <td>-</td>\n",
              "      <td>NaN</td>\n",
              "      <td>NaN</td>\n",
              "      <td>NaN</td>\n",
              "      <td>NaN</td>\n",
              "      <td>NaN</td>\n",
              "      <td>NaN</td>\n",
              "      <td>NaN</td>\n",
              "    </tr>\n",
              "    <tr>\n",
              "      <th>2</th>\n",
              "      <td>2015-12-09</td>\n",
              "      <td>14:40:40</td>\n",
              "      <td>ศรีรัช</td>\n",
              "      <td>ปกติ</td>\n",
              "      <td>0.0</td>\n",
              "      <td>0.0</td>\n",
              "      <td>0.0</td>\n",
              "      <td>0.0</td>\n",
              "      <td>ทำโทรศัพย์หล่นแล้วก้มหยิบ</td>\n",
              "      <td>NaN</td>\n",
              "      <td>NaN</td>\n",
              "      <td>NaN</td>\n",
              "      <td>NaN</td>\n",
              "      <td>NaN</td>\n",
              "      <td>NaN</td>\n",
              "      <td>NaN</td>\n",
              "    </tr>\n",
              "    <tr>\n",
              "      <th>3</th>\n",
              "      <td>2016-08-20</td>\n",
              "      <td>17:01:01</td>\n",
              "      <td>ศรีรัช</td>\n",
              "      <td>ปกติ</td>\n",
              "      <td>0.0</td>\n",
              "      <td>0.0</td>\n",
              "      <td>0.0</td>\n",
              "      <td>0.0</td>\n",
              "      <td>ก้มหยิบเงิน</td>\n",
              "      <td>NaN</td>\n",
              "      <td>NaN</td>\n",
              "      <td>NaN</td>\n",
              "      <td>NaN</td>\n",
              "      <td>NaN</td>\n",
              "      <td>NaN</td>\n",
              "      <td>NaN</td>\n",
              "    </tr>\n",
              "    <tr>\n",
              "      <th>4</th>\n",
              "      <td>2016-04-23</td>\n",
              "      <td>09:18:18</td>\n",
              "      <td>ศรีรัช</td>\n",
              "      <td>ปกติ</td>\n",
              "      <td>0.0</td>\n",
              "      <td>0.0</td>\n",
              "      <td>0.0</td>\n",
              "      <td>0.0</td>\n",
              "      <td>บรรทุกหนัก</td>\n",
              "      <td>NaN</td>\n",
              "      <td>NaN</td>\n",
              "      <td>NaN</td>\n",
              "      <td>NaN</td>\n",
              "      <td>NaN</td>\n",
              "      <td>NaN</td>\n",
              "      <td>NaN</td>\n",
              "    </tr>\n",
              "  </tbody>\n",
              "</table>\n",
              "</div>\n",
              "    <div class=\"colab-df-buttons\">\n",
              "\n",
              "  <div class=\"colab-df-container\">\n",
              "    <button class=\"colab-df-convert\" onclick=\"convertToInteractive('df-e021c46f-9f4f-4d87-b21c-32c2bf069372')\"\n",
              "            title=\"Convert this dataframe to an interactive table.\"\n",
              "            style=\"display:none;\">\n",
              "\n",
              "  <svg xmlns=\"http://www.w3.org/2000/svg\" height=\"24px\" viewBox=\"0 -960 960 960\">\n",
              "    <path d=\"M120-120v-720h720v720H120Zm60-500h600v-160H180v160Zm220 220h160v-160H400v160Zm0 220h160v-160H400v160ZM180-400h160v-160H180v160Zm440 0h160v-160H620v160ZM180-180h160v-160H180v160Zm440 0h160v-160H620v160Z\"/>\n",
              "  </svg>\n",
              "    </button>\n",
              "\n",
              "  <style>\n",
              "    .colab-df-container {\n",
              "      display:flex;\n",
              "      gap: 12px;\n",
              "    }\n",
              "\n",
              "    .colab-df-convert {\n",
              "      background-color: #E8F0FE;\n",
              "      border: none;\n",
              "      border-radius: 50%;\n",
              "      cursor: pointer;\n",
              "      display: none;\n",
              "      fill: #1967D2;\n",
              "      height: 32px;\n",
              "      padding: 0 0 0 0;\n",
              "      width: 32px;\n",
              "    }\n",
              "\n",
              "    .colab-df-convert:hover {\n",
              "      background-color: #E2EBFA;\n",
              "      box-shadow: 0px 1px 2px rgba(60, 64, 67, 0.3), 0px 1px 3px 1px rgba(60, 64, 67, 0.15);\n",
              "      fill: #174EA6;\n",
              "    }\n",
              "\n",
              "    .colab-df-buttons div {\n",
              "      margin-bottom: 4px;\n",
              "    }\n",
              "\n",
              "    [theme=dark] .colab-df-convert {\n",
              "      background-color: #3B4455;\n",
              "      fill: #D2E3FC;\n",
              "    }\n",
              "\n",
              "    [theme=dark] .colab-df-convert:hover {\n",
              "      background-color: #434B5C;\n",
              "      box-shadow: 0px 1px 3px 1px rgba(0, 0, 0, 0.15);\n",
              "      filter: drop-shadow(0px 1px 2px rgba(0, 0, 0, 0.3));\n",
              "      fill: #FFFFFF;\n",
              "    }\n",
              "  </style>\n",
              "\n",
              "    <script>\n",
              "      const buttonEl =\n",
              "        document.querySelector('#df-e021c46f-9f4f-4d87-b21c-32c2bf069372 button.colab-df-convert');\n",
              "      buttonEl.style.display =\n",
              "        google.colab.kernel.accessAllowed ? 'block' : 'none';\n",
              "\n",
              "      async function convertToInteractive(key) {\n",
              "        const element = document.querySelector('#df-e021c46f-9f4f-4d87-b21c-32c2bf069372');\n",
              "        const dataTable =\n",
              "          await google.colab.kernel.invokeFunction('convertToInteractive',\n",
              "                                                    [key], {});\n",
              "        if (!dataTable) return;\n",
              "\n",
              "        const docLinkHtml = 'Like what you see? Visit the ' +\n",
              "          '<a target=\"_blank\" href=https://colab.research.google.com/notebooks/data_table.ipynb>data table notebook</a>'\n",
              "          + ' to learn more about interactive tables.';\n",
              "        element.innerHTML = '';\n",
              "        dataTable['output_type'] = 'display_data';\n",
              "        await google.colab.output.renderOutput(dataTable, element);\n",
              "        const docLink = document.createElement('div');\n",
              "        docLink.innerHTML = docLinkHtml;\n",
              "        element.appendChild(docLink);\n",
              "      }\n",
              "    </script>\n",
              "  </div>\n",
              "\n",
              "\n",
              "<div id=\"df-632ae179-7a2e-4058-b042-7f178d0e42a3\">\n",
              "  <button class=\"colab-df-quickchart\" onclick=\"quickchart('df-632ae179-7a2e-4058-b042-7f178d0e42a3')\"\n",
              "            title=\"Suggest charts\"\n",
              "            style=\"display:none;\">\n",
              "\n",
              "<svg xmlns=\"http://www.w3.org/2000/svg\" height=\"24px\"viewBox=\"0 0 24 24\"\n",
              "     width=\"24px\">\n",
              "    <g>\n",
              "        <path d=\"M19 3H5c-1.1 0-2 .9-2 2v14c0 1.1.9 2 2 2h14c1.1 0 2-.9 2-2V5c0-1.1-.9-2-2-2zM9 17H7v-7h2v7zm4 0h-2V7h2v10zm4 0h-2v-4h2v4z\"/>\n",
              "    </g>\n",
              "</svg>\n",
              "  </button>\n",
              "\n",
              "<style>\n",
              "  .colab-df-quickchart {\n",
              "      --bg-color: #E8F0FE;\n",
              "      --fill-color: #1967D2;\n",
              "      --hover-bg-color: #E2EBFA;\n",
              "      --hover-fill-color: #174EA6;\n",
              "      --disabled-fill-color: #AAA;\n",
              "      --disabled-bg-color: #DDD;\n",
              "  }\n",
              "\n",
              "  [theme=dark] .colab-df-quickchart {\n",
              "      --bg-color: #3B4455;\n",
              "      --fill-color: #D2E3FC;\n",
              "      --hover-bg-color: #434B5C;\n",
              "      --hover-fill-color: #FFFFFF;\n",
              "      --disabled-bg-color: #3B4455;\n",
              "      --disabled-fill-color: #666;\n",
              "  }\n",
              "\n",
              "  .colab-df-quickchart {\n",
              "    background-color: var(--bg-color);\n",
              "    border: none;\n",
              "    border-radius: 50%;\n",
              "    cursor: pointer;\n",
              "    display: none;\n",
              "    fill: var(--fill-color);\n",
              "    height: 32px;\n",
              "    padding: 0;\n",
              "    width: 32px;\n",
              "  }\n",
              "\n",
              "  .colab-df-quickchart:hover {\n",
              "    background-color: var(--hover-bg-color);\n",
              "    box-shadow: 0 1px 2px rgba(60, 64, 67, 0.3), 0 1px 3px 1px rgba(60, 64, 67, 0.15);\n",
              "    fill: var(--button-hover-fill-color);\n",
              "  }\n",
              "\n",
              "  .colab-df-quickchart-complete:disabled,\n",
              "  .colab-df-quickchart-complete:disabled:hover {\n",
              "    background-color: var(--disabled-bg-color);\n",
              "    fill: var(--disabled-fill-color);\n",
              "    box-shadow: none;\n",
              "  }\n",
              "\n",
              "  .colab-df-spinner {\n",
              "    border: 2px solid var(--fill-color);\n",
              "    border-color: transparent;\n",
              "    border-bottom-color: var(--fill-color);\n",
              "    animation:\n",
              "      spin 1s steps(1) infinite;\n",
              "  }\n",
              "\n",
              "  @keyframes spin {\n",
              "    0% {\n",
              "      border-color: transparent;\n",
              "      border-bottom-color: var(--fill-color);\n",
              "      border-left-color: var(--fill-color);\n",
              "    }\n",
              "    20% {\n",
              "      border-color: transparent;\n",
              "      border-left-color: var(--fill-color);\n",
              "      border-top-color: var(--fill-color);\n",
              "    }\n",
              "    30% {\n",
              "      border-color: transparent;\n",
              "      border-left-color: var(--fill-color);\n",
              "      border-top-color: var(--fill-color);\n",
              "      border-right-color: var(--fill-color);\n",
              "    }\n",
              "    40% {\n",
              "      border-color: transparent;\n",
              "      border-right-color: var(--fill-color);\n",
              "      border-top-color: var(--fill-color);\n",
              "    }\n",
              "    60% {\n",
              "      border-color: transparent;\n",
              "      border-right-color: var(--fill-color);\n",
              "    }\n",
              "    80% {\n",
              "      border-color: transparent;\n",
              "      border-right-color: var(--fill-color);\n",
              "      border-bottom-color: var(--fill-color);\n",
              "    }\n",
              "    90% {\n",
              "      border-color: transparent;\n",
              "      border-bottom-color: var(--fill-color);\n",
              "    }\n",
              "  }\n",
              "</style>\n",
              "\n",
              "  <script>\n",
              "    async function quickchart(key) {\n",
              "      const quickchartButtonEl =\n",
              "        document.querySelector('#' + key + ' button');\n",
              "      quickchartButtonEl.disabled = true;  // To prevent multiple clicks.\n",
              "      quickchartButtonEl.classList.add('colab-df-spinner');\n",
              "      try {\n",
              "        const charts = await google.colab.kernel.invokeFunction(\n",
              "            'suggestCharts', [key], {});\n",
              "      } catch (error) {\n",
              "        console.error('Error during call to suggestCharts:', error);\n",
              "      }\n",
              "      quickchartButtonEl.classList.remove('colab-df-spinner');\n",
              "      quickchartButtonEl.classList.add('colab-df-quickchart-complete');\n",
              "    }\n",
              "    (() => {\n",
              "      let quickchartButtonEl =\n",
              "        document.querySelector('#df-632ae179-7a2e-4058-b042-7f178d0e42a3 button');\n",
              "      quickchartButtonEl.style.display =\n",
              "        google.colab.kernel.accessAllowed ? 'block' : 'none';\n",
              "    })();\n",
              "  </script>\n",
              "</div>\n",
              "    </div>\n",
              "  </div>\n"
            ],
            "application/vnd.google.colaboratory.intrinsic+json": {
              "type": "dataframe",
              "repr_error": "'str' object has no attribute 'empty'"
            }
          },
          "metadata": {},
          "execution_count": 51
        }
      ]
    },
    {
      "cell_type": "code",
      "source": [
        "data_59.columns"
      ],
      "metadata": {
        "colab": {
          "base_uri": "https://localhost:8080/"
        },
        "id": "-xJQzbqIk9My",
        "outputId": "c60eed2c-2fc7-4c0d-d814-4dbd2d9f8291"
      },
      "execution_count": 52,
      "outputs": [
        {
          "output_type": "execute_result",
          "data": {
            "text/plain": [
              "Index(['accident_date', 'accident_time', 'expw_step', 'weather_state',\n",
              "       'injur_man', 'injur_femel', 'dead_man', 'dead_femel', 'cause'],\n",
              "      dtype='object')"
            ]
          },
          "metadata": {},
          "execution_count": 52
        }
      ]
    },
    {
      "cell_type": "code",
      "source": [
        "data_60.columns"
      ],
      "metadata": {
        "colab": {
          "base_uri": "https://localhost:8080/"
        },
        "id": "C8FT7ov6lAs8",
        "outputId": "3a83ac0a-734f-42b7-83b0-87d6bcef7c8d"
      },
      "execution_count": 53,
      "outputs": [
        {
          "output_type": "execute_result",
          "data": {
            "text/plain": [
              "Index(['accident_date', 'accident_time', 'expw_step', 'weather_state',\n",
              "       'injur_man', 'injur_femel', 'dead_man', 'dead_femel', 'cause'],\n",
              "      dtype='object')"
            ]
          },
          "metadata": {},
          "execution_count": 53
        }
      ]
    },
    {
      "cell_type": "code",
      "source": [
        "data_61.columns"
      ],
      "metadata": {
        "colab": {
          "base_uri": "https://localhost:8080/"
        },
        "id": "y7sRWR9DlETI",
        "outputId": "095d2356-f7cd-4845-9885-caac29369aae"
      },
      "execution_count": 54,
      "outputs": [
        {
          "output_type": "execute_result",
          "data": {
            "text/plain": [
              "Index(['accident_date', 'accident_time', 'expw_step', 'weather_state',\n",
              "       'injur_man', 'injur_femel', 'dead_man', 'dead_femel', 'cause'],\n",
              "      dtype='object')"
            ]
          },
          "metadata": {},
          "execution_count": 54
        }
      ]
    },
    {
      "cell_type": "code",
      "source": [
        "data_62.columns"
      ],
      "metadata": {
        "colab": {
          "base_uri": "https://localhost:8080/"
        },
        "id": "IAZWVdjhlHV8",
        "outputId": "8359b9d6-ec33-4da2-eaad-1883659d8039"
      },
      "execution_count": 55,
      "outputs": [
        {
          "output_type": "execute_result",
          "data": {
            "text/plain": [
              "Index(['accident_date', 'accident_time', 'expw_step', 'weather_state',\n",
              "       'injur_man', 'injur_femel', 'dead_man', 'dead_femel', 'cause'],\n",
              "      dtype='object')"
            ]
          },
          "metadata": {},
          "execution_count": 55
        }
      ]
    },
    {
      "cell_type": "code",
      "source": [
        "data_64.columns"
      ],
      "metadata": {
        "colab": {
          "base_uri": "https://localhost:8080/"
        },
        "id": "RAUiZBsamroT",
        "outputId": "8ab603df-f4f4-4083-aa95-ebd72f58be73"
      },
      "execution_count": 56,
      "outputs": [
        {
          "output_type": "execute_result",
          "data": {
            "text/plain": [
              "Index(['accident_date', 'accident_time', 'step', 'ad_state', 'acman_rec',\n",
              "       'acfem_rec', 'deadman_rec', 'deadfem_rec', 'cause_type'],\n",
              "      dtype='object')"
            ]
          },
          "metadata": {},
          "execution_count": 56
        }
      ]
    },
    {
      "cell_type": "code",
      "source": [
        "data_64=data_64.rename(columns = {'step':'expw_step','ad_state':'weather_state','acman_rec':'injur_man','acfem_rec':'injur_femel'\n",
        ",'deadman_rec':'dead_man','deadfem_rec':'dead_femel','cause_type':'cause'})"
      ],
      "metadata": {
        "id": "2qcar8AAmut7"
      },
      "execution_count": 57,
      "outputs": []
    },
    {
      "cell_type": "code",
      "source": [
        "use_data=pd.concat([data_59,data_60,data_61,data_62,data_63,data_64]).reset_index().drop(\"index\",axis=1)"
      ],
      "metadata": {
        "id": "jfzbd_wjwSpS"
      },
      "execution_count": 58,
      "outputs": []
    },
    {
      "cell_type": "code",
      "source": [
        "use_data.to_excel('use_data.xlsx')"
      ],
      "metadata": {
        "id": "fjU5PG7dxkdK"
      },
      "execution_count": 59,
      "outputs": []
    },
    {
      "cell_type": "markdown",
      "source": [
        "### ช่วงทำความสะอาด\n"
      ],
      "metadata": {
        "id": "GxkHLc1cqZKC"
      }
    },
    {
      "cell_type": "code",
      "source": [
        "use_data.info()"
      ],
      "metadata": {
        "id": "OKjMZVfdr4Vj",
        "outputId": "03ddecab-d9b6-4320-8435-5cdf351463f8",
        "colab": {
          "base_uri": "https://localhost:8080/"
        }
      },
      "execution_count": 60,
      "outputs": [
        {
          "output_type": "stream",
          "name": "stdout",
          "text": [
            "<class 'pandas.core.frame.DataFrame'>\n",
            "RangeIndex: 5695 entries, 0 to 5694\n",
            "Data columns (total 9 columns):\n",
            " #   Column         Non-Null Count  Dtype         \n",
            "---  ------         --------------  -----         \n",
            " 0   accident_date  5695 non-null   datetime64[ns]\n",
            " 1   accident_time  5695 non-null   object        \n",
            " 2   expw_step      5695 non-null   object        \n",
            " 3   weather_state  5695 non-null   object        \n",
            " 4   injur_man      5695 non-null   int64         \n",
            " 5   injur_femel    5695 non-null   int64         \n",
            " 6   dead_man       5695 non-null   int64         \n",
            " 7   dead_femel     5695 non-null   int64         \n",
            " 8   cause          5695 non-null   object        \n",
            "dtypes: datetime64[ns](1), int64(4), object(4)\n",
            "memory usage: 400.6+ KB\n"
          ]
        }
      ]
    },
    {
      "cell_type": "code",
      "source": [
        "type(use_data['accident_time'][0])"
      ],
      "metadata": {
        "id": "vw5e5nfyr8Ym",
        "outputId": "a6310c02-82db-4a50-937d-e350c63e40f5",
        "colab": {
          "base_uri": "https://localhost:8080/"
        }
      },
      "execution_count": 61,
      "outputs": [
        {
          "output_type": "execute_result",
          "data": {
            "text/plain": [
              "datetime.time"
            ]
          },
          "metadata": {},
          "execution_count": 61
        }
      ]
    },
    {
      "cell_type": "markdown",
      "source": [
        "เวลา"
      ],
      "metadata": {
        "id": "oBoujKKdruXX"
      }
    },
    {
      "cell_type": "code",
      "source": [
        "import datetime\n",
        "def time_in_range(start, end, x):\n",
        "    \"\"\"Return true if x is in the range [start, end]\"\"\"\n",
        "    if start <= end:\n",
        "        return start <= x <= end\n",
        "    else:\n",
        "        return start <= x or x <= end"
      ],
      "metadata": {
        "id": "PssrH7Hnsrcr"
      },
      "execution_count": 62,
      "outputs": []
    },
    {
      "cell_type": "code",
      "source": [
        "#ยกตัวอย่าง\n",
        "start = datetime.time(6, 1, 0)\n",
        "end = datetime.time(12, 0, 0)\n",
        "time_in_range(start, end, use_data['accident_time'][0])"
      ],
      "metadata": {
        "id": "o80_zR_hswyX",
        "outputId": "36eb6669-2217-4555-b5c5-09d8eff2cc28",
        "colab": {
          "base_uri": "https://localhost:8080/"
        }
      },
      "execution_count": 63,
      "outputs": [
        {
          "output_type": "execute_result",
          "data": {
            "text/plain": [
              "True"
            ]
          },
          "metadata": {},
          "execution_count": 63
        }
      ]
    },
    {
      "cell_type": "code",
      "source": [
        "use_data['accident_time'][227]"
      ],
      "metadata": {
        "id": "TYxIvBQ_w_-6",
        "outputId": "2c597aa1-a2b5-47b6-fed8-84a0ee67af71",
        "colab": {
          "base_uri": "https://localhost:8080/"
        }
      },
      "execution_count": 71,
      "outputs": [
        {
          "output_type": "execute_result",
          "data": {
            "text/plain": [
              "datetime.time(12, 59, 59)"
            ]
          },
          "metadata": {},
          "execution_count": 71
        }
      ]
    },
    {
      "cell_type": "code",
      "source": [
        "time_lable=[]\n",
        "how =[]\n",
        "#เช้า\n",
        "start_0 = datetime.time(6, 0, 0)\n",
        "end_0 = datetime.time(12, 59, 59)\n",
        "#บ่าย\n",
        "start_1 = datetime.time(13, 0, 0)\n",
        "end_1 = datetime.time(18, 59, 59)\n",
        "#ดึก\n",
        "start_2 = datetime.time(19, 0, 0)\n",
        "end_2 = datetime.time(23, 59, 59)\n",
        "#หลังเที่ยงคืน\n",
        "start_3 = datetime.time(0, 0, 0)\n",
        "end_3 = datetime.time(5, 59, 59)\n",
        "for i in range(len(use_data['accident_time'])):\n",
        "  if time_in_range(start_0, end_0, use_data['accident_time'][i]) == True:\n",
        "    time_lable.append(0)\n",
        "  elif time_in_range(start_1, end_1, use_data['accident_time'][i]) == True:\n",
        "    time_lable.append(1)\n",
        "  elif time_in_range(start_2, end_2, use_data['accident_time'][i]) == True:\n",
        "    time_lable.append(2)\n",
        "  elif time_in_range(start_3, end_3, use_data['accident_time'][i]) == True:\n",
        "    time_lable.append(3)\n",
        "  else:\n",
        "    how.append(i)\n",
        "how"
      ],
      "metadata": {
        "id": "xdKhgohsqe02",
        "outputId": "7d82e201-4448-4cd8-e756-a3d82e75df19",
        "colab": {
          "base_uri": "https://localhost:8080/"
        }
      },
      "execution_count": 72,
      "outputs": [
        {
          "output_type": "execute_result",
          "data": {
            "text/plain": [
              "[]"
            ]
          },
          "metadata": {},
          "execution_count": 72
        }
      ]
    },
    {
      "cell_type": "code",
      "source": [
        "use_data['time_lable']=time_lable"
      ],
      "metadata": {
        "id": "4wBzGieEv2eC"
      },
      "execution_count": 74,
      "outputs": []
    },
    {
      "cell_type": "code",
      "source": [
        "use_data"
      ],
      "metadata": {
        "id": "QXeHBWSlx5EZ",
        "outputId": "ec7707ae-a7ba-45a5-8acb-5998a1cdccd1",
        "colab": {
          "base_uri": "https://localhost:8080/",
          "height": 597
        }
      },
      "execution_count": 75,
      "outputs": [
        {
          "output_type": "execute_result",
          "data": {
            "text/plain": [
              "           accident_date accident_time    expw_step weather_state  injur_man  \\\n",
              "0    2016-03-15 00:00:00      07:23:23       ศรีรัช          ปกติ          0   \n",
              "1    2016-07-27 00:00:00      12:22:22       ศรีรัช          ปกติ          0   \n",
              "2    2015-12-09 00:00:00      14:40:40       ศรีรัช          ปกติ          0   \n",
              "3    2016-08-20 00:00:00      17:01:01       ศรีรัช          ปกติ          0   \n",
              "4    2016-04-23 00:00:00      09:18:18       ศรีรัช          ปกติ          0   \n",
              "...                  ...           ...          ...           ...        ...   \n",
              "5690 2020-10-02 07:15:15      07:15:15    บูรพาวิถี          ปกติ          0   \n",
              "5691 2020-10-02 01:50:50      01:50:50  เฉลิมมหานคร  ถนนเปียกลื่น          2   \n",
              "5692 2020-10-02 00:50:50      00:50:50       ศรีรัช          ฝนตก          0   \n",
              "5693 2020-10-01 16:40:40      16:40:40      ฉลองรัช          ปกติ          0   \n",
              "5694 2020-10-01 00:23:23      00:23:23      ฉลองรัช          ปกติ          0   \n",
              "\n",
              "      injur_femel  dead_man  dead_femel                      cause  time_lable  \n",
              "0               0         0           0                โรคประจำตัว           0  \n",
              "1               0         0           0                          -           0  \n",
              "2               0         0           0  ทำโทรศัพย์หล่นแล้วก้มหยิบ           1  \n",
              "3               0         0           0                ก้มหยิบเงิน           1  \n",
              "4               0         0           0                 บรรทุกหนัก           0  \n",
              "...           ...       ...         ...                        ...         ...  \n",
              "5690            0         0           0                  เพลิงไหม้           0  \n",
              "5691            1         0           0        ใช้ความเร็วเข้าโค้ง           3  \n",
              "5692            0         0           0                     หลับใน           3  \n",
              "5693            0         0           0    เปลี่ยนช่องทางกระทันหัน           1  \n",
              "5694            0         0           0            ขับรถเร็วเกินไป           3  \n",
              "\n",
              "[5695 rows x 10 columns]"
            ],
            "text/html": [
              "\n",
              "  <div id=\"df-a7550b9a-428f-4054-8b52-9729a2be3551\" class=\"colab-df-container\">\n",
              "    <div>\n",
              "<style scoped>\n",
              "    .dataframe tbody tr th:only-of-type {\n",
              "        vertical-align: middle;\n",
              "    }\n",
              "\n",
              "    .dataframe tbody tr th {\n",
              "        vertical-align: top;\n",
              "    }\n",
              "\n",
              "    .dataframe thead th {\n",
              "        text-align: right;\n",
              "    }\n",
              "</style>\n",
              "<table border=\"1\" class=\"dataframe\">\n",
              "  <thead>\n",
              "    <tr style=\"text-align: right;\">\n",
              "      <th></th>\n",
              "      <th>accident_date</th>\n",
              "      <th>accident_time</th>\n",
              "      <th>expw_step</th>\n",
              "      <th>weather_state</th>\n",
              "      <th>injur_man</th>\n",
              "      <th>injur_femel</th>\n",
              "      <th>dead_man</th>\n",
              "      <th>dead_femel</th>\n",
              "      <th>cause</th>\n",
              "      <th>time_lable</th>\n",
              "    </tr>\n",
              "  </thead>\n",
              "  <tbody>\n",
              "    <tr>\n",
              "      <th>0</th>\n",
              "      <td>2016-03-15 00:00:00</td>\n",
              "      <td>07:23:23</td>\n",
              "      <td>ศรีรัช</td>\n",
              "      <td>ปกติ</td>\n",
              "      <td>0</td>\n",
              "      <td>0</td>\n",
              "      <td>0</td>\n",
              "      <td>0</td>\n",
              "      <td>โรคประจำตัว</td>\n",
              "      <td>0</td>\n",
              "    </tr>\n",
              "    <tr>\n",
              "      <th>1</th>\n",
              "      <td>2016-07-27 00:00:00</td>\n",
              "      <td>12:22:22</td>\n",
              "      <td>ศรีรัช</td>\n",
              "      <td>ปกติ</td>\n",
              "      <td>0</td>\n",
              "      <td>0</td>\n",
              "      <td>0</td>\n",
              "      <td>0</td>\n",
              "      <td>-</td>\n",
              "      <td>0</td>\n",
              "    </tr>\n",
              "    <tr>\n",
              "      <th>2</th>\n",
              "      <td>2015-12-09 00:00:00</td>\n",
              "      <td>14:40:40</td>\n",
              "      <td>ศรีรัช</td>\n",
              "      <td>ปกติ</td>\n",
              "      <td>0</td>\n",
              "      <td>0</td>\n",
              "      <td>0</td>\n",
              "      <td>0</td>\n",
              "      <td>ทำโทรศัพย์หล่นแล้วก้มหยิบ</td>\n",
              "      <td>1</td>\n",
              "    </tr>\n",
              "    <tr>\n",
              "      <th>3</th>\n",
              "      <td>2016-08-20 00:00:00</td>\n",
              "      <td>17:01:01</td>\n",
              "      <td>ศรีรัช</td>\n",
              "      <td>ปกติ</td>\n",
              "      <td>0</td>\n",
              "      <td>0</td>\n",
              "      <td>0</td>\n",
              "      <td>0</td>\n",
              "      <td>ก้มหยิบเงิน</td>\n",
              "      <td>1</td>\n",
              "    </tr>\n",
              "    <tr>\n",
              "      <th>4</th>\n",
              "      <td>2016-04-23 00:00:00</td>\n",
              "      <td>09:18:18</td>\n",
              "      <td>ศรีรัช</td>\n",
              "      <td>ปกติ</td>\n",
              "      <td>0</td>\n",
              "      <td>0</td>\n",
              "      <td>0</td>\n",
              "      <td>0</td>\n",
              "      <td>บรรทุกหนัก</td>\n",
              "      <td>0</td>\n",
              "    </tr>\n",
              "    <tr>\n",
              "      <th>...</th>\n",
              "      <td>...</td>\n",
              "      <td>...</td>\n",
              "      <td>...</td>\n",
              "      <td>...</td>\n",
              "      <td>...</td>\n",
              "      <td>...</td>\n",
              "      <td>...</td>\n",
              "      <td>...</td>\n",
              "      <td>...</td>\n",
              "      <td>...</td>\n",
              "    </tr>\n",
              "    <tr>\n",
              "      <th>5690</th>\n",
              "      <td>2020-10-02 07:15:15</td>\n",
              "      <td>07:15:15</td>\n",
              "      <td>บูรพาวิถี</td>\n",
              "      <td>ปกติ</td>\n",
              "      <td>0</td>\n",
              "      <td>0</td>\n",
              "      <td>0</td>\n",
              "      <td>0</td>\n",
              "      <td>เพลิงไหม้</td>\n",
              "      <td>0</td>\n",
              "    </tr>\n",
              "    <tr>\n",
              "      <th>5691</th>\n",
              "      <td>2020-10-02 01:50:50</td>\n",
              "      <td>01:50:50</td>\n",
              "      <td>เฉลิมมหานคร</td>\n",
              "      <td>ถนนเปียกลื่น</td>\n",
              "      <td>2</td>\n",
              "      <td>1</td>\n",
              "      <td>0</td>\n",
              "      <td>0</td>\n",
              "      <td>ใช้ความเร็วเข้าโค้ง</td>\n",
              "      <td>3</td>\n",
              "    </tr>\n",
              "    <tr>\n",
              "      <th>5692</th>\n",
              "      <td>2020-10-02 00:50:50</td>\n",
              "      <td>00:50:50</td>\n",
              "      <td>ศรีรัช</td>\n",
              "      <td>ฝนตก</td>\n",
              "      <td>0</td>\n",
              "      <td>0</td>\n",
              "      <td>0</td>\n",
              "      <td>0</td>\n",
              "      <td>หลับใน</td>\n",
              "      <td>3</td>\n",
              "    </tr>\n",
              "    <tr>\n",
              "      <th>5693</th>\n",
              "      <td>2020-10-01 16:40:40</td>\n",
              "      <td>16:40:40</td>\n",
              "      <td>ฉลองรัช</td>\n",
              "      <td>ปกติ</td>\n",
              "      <td>0</td>\n",
              "      <td>0</td>\n",
              "      <td>0</td>\n",
              "      <td>0</td>\n",
              "      <td>เปลี่ยนช่องทางกระทันหัน</td>\n",
              "      <td>1</td>\n",
              "    </tr>\n",
              "    <tr>\n",
              "      <th>5694</th>\n",
              "      <td>2020-10-01 00:23:23</td>\n",
              "      <td>00:23:23</td>\n",
              "      <td>ฉลองรัช</td>\n",
              "      <td>ปกติ</td>\n",
              "      <td>0</td>\n",
              "      <td>0</td>\n",
              "      <td>0</td>\n",
              "      <td>0</td>\n",
              "      <td>ขับรถเร็วเกินไป</td>\n",
              "      <td>3</td>\n",
              "    </tr>\n",
              "  </tbody>\n",
              "</table>\n",
              "<p>5695 rows × 10 columns</p>\n",
              "</div>\n",
              "    <div class=\"colab-df-buttons\">\n",
              "\n",
              "  <div class=\"colab-df-container\">\n",
              "    <button class=\"colab-df-convert\" onclick=\"convertToInteractive('df-a7550b9a-428f-4054-8b52-9729a2be3551')\"\n",
              "            title=\"Convert this dataframe to an interactive table.\"\n",
              "            style=\"display:none;\">\n",
              "\n",
              "  <svg xmlns=\"http://www.w3.org/2000/svg\" height=\"24px\" viewBox=\"0 -960 960 960\">\n",
              "    <path d=\"M120-120v-720h720v720H120Zm60-500h600v-160H180v160Zm220 220h160v-160H400v160Zm0 220h160v-160H400v160ZM180-400h160v-160H180v160Zm440 0h160v-160H620v160ZM180-180h160v-160H180v160Zm440 0h160v-160H620v160Z\"/>\n",
              "  </svg>\n",
              "    </button>\n",
              "\n",
              "  <style>\n",
              "    .colab-df-container {\n",
              "      display:flex;\n",
              "      gap: 12px;\n",
              "    }\n",
              "\n",
              "    .colab-df-convert {\n",
              "      background-color: #E8F0FE;\n",
              "      border: none;\n",
              "      border-radius: 50%;\n",
              "      cursor: pointer;\n",
              "      display: none;\n",
              "      fill: #1967D2;\n",
              "      height: 32px;\n",
              "      padding: 0 0 0 0;\n",
              "      width: 32px;\n",
              "    }\n",
              "\n",
              "    .colab-df-convert:hover {\n",
              "      background-color: #E2EBFA;\n",
              "      box-shadow: 0px 1px 2px rgba(60, 64, 67, 0.3), 0px 1px 3px 1px rgba(60, 64, 67, 0.15);\n",
              "      fill: #174EA6;\n",
              "    }\n",
              "\n",
              "    .colab-df-buttons div {\n",
              "      margin-bottom: 4px;\n",
              "    }\n",
              "\n",
              "    [theme=dark] .colab-df-convert {\n",
              "      background-color: #3B4455;\n",
              "      fill: #D2E3FC;\n",
              "    }\n",
              "\n",
              "    [theme=dark] .colab-df-convert:hover {\n",
              "      background-color: #434B5C;\n",
              "      box-shadow: 0px 1px 3px 1px rgba(0, 0, 0, 0.15);\n",
              "      filter: drop-shadow(0px 1px 2px rgba(0, 0, 0, 0.3));\n",
              "      fill: #FFFFFF;\n",
              "    }\n",
              "  </style>\n",
              "\n",
              "    <script>\n",
              "      const buttonEl =\n",
              "        document.querySelector('#df-a7550b9a-428f-4054-8b52-9729a2be3551 button.colab-df-convert');\n",
              "      buttonEl.style.display =\n",
              "        google.colab.kernel.accessAllowed ? 'block' : 'none';\n",
              "\n",
              "      async function convertToInteractive(key) {\n",
              "        const element = document.querySelector('#df-a7550b9a-428f-4054-8b52-9729a2be3551');\n",
              "        const dataTable =\n",
              "          await google.colab.kernel.invokeFunction('convertToInteractive',\n",
              "                                                    [key], {});\n",
              "        if (!dataTable) return;\n",
              "\n",
              "        const docLinkHtml = 'Like what you see? Visit the ' +\n",
              "          '<a target=\"_blank\" href=https://colab.research.google.com/notebooks/data_table.ipynb>data table notebook</a>'\n",
              "          + ' to learn more about interactive tables.';\n",
              "        element.innerHTML = '';\n",
              "        dataTable['output_type'] = 'display_data';\n",
              "        await google.colab.output.renderOutput(dataTable, element);\n",
              "        const docLink = document.createElement('div');\n",
              "        docLink.innerHTML = docLinkHtml;\n",
              "        element.appendChild(docLink);\n",
              "      }\n",
              "    </script>\n",
              "  </div>\n",
              "\n",
              "\n",
              "<div id=\"df-140de716-ccc0-4409-9f2f-3fa122d6c806\">\n",
              "  <button class=\"colab-df-quickchart\" onclick=\"quickchart('df-140de716-ccc0-4409-9f2f-3fa122d6c806')\"\n",
              "            title=\"Suggest charts\"\n",
              "            style=\"display:none;\">\n",
              "\n",
              "<svg xmlns=\"http://www.w3.org/2000/svg\" height=\"24px\"viewBox=\"0 0 24 24\"\n",
              "     width=\"24px\">\n",
              "    <g>\n",
              "        <path d=\"M19 3H5c-1.1 0-2 .9-2 2v14c0 1.1.9 2 2 2h14c1.1 0 2-.9 2-2V5c0-1.1-.9-2-2-2zM9 17H7v-7h2v7zm4 0h-2V7h2v10zm4 0h-2v-4h2v4z\"/>\n",
              "    </g>\n",
              "</svg>\n",
              "  </button>\n",
              "\n",
              "<style>\n",
              "  .colab-df-quickchart {\n",
              "      --bg-color: #E8F0FE;\n",
              "      --fill-color: #1967D2;\n",
              "      --hover-bg-color: #E2EBFA;\n",
              "      --hover-fill-color: #174EA6;\n",
              "      --disabled-fill-color: #AAA;\n",
              "      --disabled-bg-color: #DDD;\n",
              "  }\n",
              "\n",
              "  [theme=dark] .colab-df-quickchart {\n",
              "      --bg-color: #3B4455;\n",
              "      --fill-color: #D2E3FC;\n",
              "      --hover-bg-color: #434B5C;\n",
              "      --hover-fill-color: #FFFFFF;\n",
              "      --disabled-bg-color: #3B4455;\n",
              "      --disabled-fill-color: #666;\n",
              "  }\n",
              "\n",
              "  .colab-df-quickchart {\n",
              "    background-color: var(--bg-color);\n",
              "    border: none;\n",
              "    border-radius: 50%;\n",
              "    cursor: pointer;\n",
              "    display: none;\n",
              "    fill: var(--fill-color);\n",
              "    height: 32px;\n",
              "    padding: 0;\n",
              "    width: 32px;\n",
              "  }\n",
              "\n",
              "  .colab-df-quickchart:hover {\n",
              "    background-color: var(--hover-bg-color);\n",
              "    box-shadow: 0 1px 2px rgba(60, 64, 67, 0.3), 0 1px 3px 1px rgba(60, 64, 67, 0.15);\n",
              "    fill: var(--button-hover-fill-color);\n",
              "  }\n",
              "\n",
              "  .colab-df-quickchart-complete:disabled,\n",
              "  .colab-df-quickchart-complete:disabled:hover {\n",
              "    background-color: var(--disabled-bg-color);\n",
              "    fill: var(--disabled-fill-color);\n",
              "    box-shadow: none;\n",
              "  }\n",
              "\n",
              "  .colab-df-spinner {\n",
              "    border: 2px solid var(--fill-color);\n",
              "    border-color: transparent;\n",
              "    border-bottom-color: var(--fill-color);\n",
              "    animation:\n",
              "      spin 1s steps(1) infinite;\n",
              "  }\n",
              "\n",
              "  @keyframes spin {\n",
              "    0% {\n",
              "      border-color: transparent;\n",
              "      border-bottom-color: var(--fill-color);\n",
              "      border-left-color: var(--fill-color);\n",
              "    }\n",
              "    20% {\n",
              "      border-color: transparent;\n",
              "      border-left-color: var(--fill-color);\n",
              "      border-top-color: var(--fill-color);\n",
              "    }\n",
              "    30% {\n",
              "      border-color: transparent;\n",
              "      border-left-color: var(--fill-color);\n",
              "      border-top-color: var(--fill-color);\n",
              "      border-right-color: var(--fill-color);\n",
              "    }\n",
              "    40% {\n",
              "      border-color: transparent;\n",
              "      border-right-color: var(--fill-color);\n",
              "      border-top-color: var(--fill-color);\n",
              "    }\n",
              "    60% {\n",
              "      border-color: transparent;\n",
              "      border-right-color: var(--fill-color);\n",
              "    }\n",
              "    80% {\n",
              "      border-color: transparent;\n",
              "      border-right-color: var(--fill-color);\n",
              "      border-bottom-color: var(--fill-color);\n",
              "    }\n",
              "    90% {\n",
              "      border-color: transparent;\n",
              "      border-bottom-color: var(--fill-color);\n",
              "    }\n",
              "  }\n",
              "</style>\n",
              "\n",
              "  <script>\n",
              "    async function quickchart(key) {\n",
              "      const quickchartButtonEl =\n",
              "        document.querySelector('#' + key + ' button');\n",
              "      quickchartButtonEl.disabled = true;  // To prevent multiple clicks.\n",
              "      quickchartButtonEl.classList.add('colab-df-spinner');\n",
              "      try {\n",
              "        const charts = await google.colab.kernel.invokeFunction(\n",
              "            'suggestCharts', [key], {});\n",
              "      } catch (error) {\n",
              "        console.error('Error during call to suggestCharts:', error);\n",
              "      }\n",
              "      quickchartButtonEl.classList.remove('colab-df-spinner');\n",
              "      quickchartButtonEl.classList.add('colab-df-quickchart-complete');\n",
              "    }\n",
              "    (() => {\n",
              "      let quickchartButtonEl =\n",
              "        document.querySelector('#df-140de716-ccc0-4409-9f2f-3fa122d6c806 button');\n",
              "      quickchartButtonEl.style.display =\n",
              "        google.colab.kernel.accessAllowed ? 'block' : 'none';\n",
              "    })();\n",
              "  </script>\n",
              "</div>\n",
              "    </div>\n",
              "  </div>\n"
            ],
            "application/vnd.google.colaboratory.intrinsic+json": {
              "type": "dataframe",
              "variable_name": "use_data",
              "summary": "{\n  \"name\": \"use_data\",\n  \"rows\": 5695,\n  \"fields\": [\n    {\n      \"column\": \"accident_date\",\n      \"properties\": {\n        \"dtype\": \"date\",\n        \"min\": \"2015-10-01 00:00:00\",\n        \"max\": \"2021-09-30 14:33:33\",\n        \"num_unique_values\": 2410,\n        \"samples\": [\n          \"2021-03-29 17:06:06\",\n          \"2021-03-01 12:23:23\",\n          \"2021-09-22 22:05:05\"\n        ],\n        \"semantic_type\": \"\",\n        \"description\": \"\"\n      }\n    },\n    {\n      \"column\": \"accident_time\",\n      \"properties\": {\n        \"dtype\": \"category\",\n        \"num_unique_values\": 1395,\n        \"samples\": [\n          \"18:11:11\",\n          \"11:58:58\",\n          \"02:34:34\"\n        ],\n        \"semantic_type\": \"\",\n        \"description\": \"\"\n      }\n    },\n    {\n      \"column\": \"expw_step\",\n      \"properties\": {\n        \"dtype\": \"category\",\n        \"num_unique_values\": 9,\n        \"samples\": [\n          \"\\u0e28\\u0e23\\u0e35\\u0e23\\u0e31\\u0e0a-\\u0e27\\u0e07\\u0e41\\u0e2b\\u0e27\\u0e19\\u0e23\\u0e2d\\u0e1a\\u0e19\\u0e2d\\u0e01\",\n          \"\\u0e09\\u0e25\\u0e2d\\u0e07\\u0e23\\u0e31\\u0e0a\",\n          \"\\u0e1a\\u0e32\\u0e07\\u0e1e\\u0e25\\u0e35-\\u0e2a\\u0e38\\u0e02\\u0e2a\\u0e27\\u0e31\\u0e2a\\u0e14\\u0e34\\u0e4c\"\n        ],\n        \"semantic_type\": \"\",\n        \"description\": \"\"\n      }\n    },\n    {\n      \"column\": \"weather_state\",\n      \"properties\": {\n        \"dtype\": \"category\",\n        \"num_unique_values\": 7,\n        \"samples\": [\n          \"\\u0e1b\\u0e01\\u0e15\\u0e34\",\n          \"\\u0e1d\\u0e19\\u0e15\\u0e01\",\n          \"\\u0e17\\u0e49\\u0e2d\\u0e07\\u0e1f\\u0e49\\u0e32\\u0e21\\u0e37\\u0e14\\u0e04\\u0e23\\u0e36\\u0e49\\u0e21\"\n        ],\n        \"semantic_type\": \"\",\n        \"description\": \"\"\n      }\n    },\n    {\n      \"column\": \"injur_man\",\n      \"properties\": {\n        \"dtype\": \"number\",\n        \"std\": 0,\n        \"min\": 0,\n        \"max\": 8,\n        \"num_unique_values\": 9,\n        \"samples\": [\n          7,\n          1,\n          5\n        ],\n        \"semantic_type\": \"\",\n        \"description\": \"\"\n      }\n    },\n    {\n      \"column\": \"injur_femel\",\n      \"properties\": {\n        \"dtype\": \"number\",\n        \"std\": 0,\n        \"min\": 0,\n        \"max\": 21,\n        \"num_unique_values\": 11,\n        \"samples\": [\n          3,\n          0,\n          21\n        ],\n        \"semantic_type\": \"\",\n        \"description\": \"\"\n      }\n    },\n    {\n      \"column\": \"dead_man\",\n      \"properties\": {\n        \"dtype\": \"number\",\n        \"std\": 0,\n        \"min\": 0,\n        \"max\": 2,\n        \"num_unique_values\": 3,\n        \"samples\": [\n          0,\n          1,\n          2\n        ],\n        \"semantic_type\": \"\",\n        \"description\": \"\"\n      }\n    },\n    {\n      \"column\": \"dead_femel\",\n      \"properties\": {\n        \"dtype\": \"number\",\n        \"std\": 0,\n        \"min\": 0,\n        \"max\": 3,\n        \"num_unique_values\": 4,\n        \"samples\": [\n          3,\n          1,\n          0\n        ],\n        \"semantic_type\": \"\",\n        \"description\": \"\"\n      }\n    },\n    {\n      \"column\": \"cause\",\n      \"properties\": {\n        \"dtype\": \"category\",\n        \"num_unique_values\": 282,\n        \"samples\": [\n          \"\\u0e02\\u0e31\\u0e1a\\u0e16\\u0e2d\\u0e22\\u0e2b\\u0e25\\u0e31\\u0e07\",\n          \"\\u0e44\\u0e21\\u0e48\\u0e17\\u0e31\\u0e19\\u0e2a\\u0e31\\u0e07\\u0e40\\u0e01\\u0e15\\u0e38\",\n          \"\\u0e44\\u0e1f\\u0e1f\\u0e49\\u0e32\\u0e23\\u0e31\\u0e14\\u0e27\\u0e07\\u0e08\\u0e23\\u0e43\\u0e19\\u0e2b\\u0e49\\u0e2d\\u0e07\\u0e40\\u0e04\\u0e23\\u0e37\\u0e48\\u0e2d\\u0e07     \"\n        ],\n        \"semantic_type\": \"\",\n        \"description\": \"\"\n      }\n    },\n    {\n      \"column\": \"time_lable\",\n      \"properties\": {\n        \"dtype\": \"number\",\n        \"std\": 1,\n        \"min\": 0,\n        \"max\": 3,\n        \"num_unique_values\": 4,\n        \"samples\": [\n          1,\n          2,\n          0\n        ],\n        \"semantic_type\": \"\",\n        \"description\": \"\"\n      }\n    }\n  ]\n}"
            }
          },
          "metadata": {},
          "execution_count": 75
        }
      ]
    }
  ]
}