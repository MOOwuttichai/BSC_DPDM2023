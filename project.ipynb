{
  "nbformat": 4,
  "nbformat_minor": 0,
  "metadata": {
    "colab": {
      "provenance": [],
      "authorship_tag": "ABX9TyPNI6OeZcr1ZmxgdJebUyTL",
      "include_colab_link": true
    },
    "kernelspec": {
      "name": "python3",
      "display_name": "Python 3"
    },
    "language_info": {
      "name": "python"
    }
  },
  "cells": [
    {
      "cell_type": "markdown",
      "metadata": {
        "id": "view-in-github",
        "colab_type": "text"
      },
      "source": [
        "<a href=\"https://colab.research.google.com/github/MOOwuttichai/BSC_DPDM2023/blob/main/project.ipynb\" target=\"_parent\"><img src=\"https://colab.research.google.com/assets/colab-badge.svg\" alt=\"Open In Colab\"/></a>"
      ]
    },
    {
      "cell_type": "code",
      "source": [
        "from google.colab import drive\n",
        "drive.mount('/content/drive')"
      ],
      "metadata": {
        "colab": {
          "base_uri": "https://localhost:8080/"
        },
        "id": "OfQilW_xbEHi",
        "outputId": "4ac5453e-40f0-407f-97c4-a8b2c0515572"
      },
      "execution_count": 24,
      "outputs": [
        {
          "output_type": "stream",
          "name": "stdout",
          "text": [
            "Drive already mounted at /content/drive; to attempt to forcibly remount, call drive.mount(\"/content/drive\", force_remount=True).\n"
          ]
        }
      ]
    },
    {
      "cell_type": "code",
      "source": [
        "import pandas as pd"
      ],
      "metadata": {
        "id": "SGGOwPHZbcGU"
      },
      "execution_count": 25,
      "outputs": []
    },
    {
      "cell_type": "code",
      "source": [
        "data_65=pd.read_excel(\"/content/drive/MyDrive/BSC-dpdm23_flie/project/accidentmonth.xlsx\")\n",
        "data_64=pd.read_excel(\"/content/drive/MyDrive/BSC-dpdm23_flie/project/kh-muul-ubatiehtubnthaangphiess-piingbpramaan-2564-t-kh-63-k-y-64.xlsx\")\n",
        "data_63=pd.read_excel(\"/content/drive/MyDrive/BSC-dpdm23_flie/project/kh-muul-ubatiehtubnthaangphiess-piingbpramaan-2563-t-kh-62-k-y-63.xlsx\")\n",
        "data_62=pd.read_excel(\"/content/drive/MyDrive/BSC-dpdm23_flie/project/kh-muul-ubatiehtubnthaangphiess-piingbpramaan-2562-t-kh-61-k-y-62.xlsx\")\n",
        "data_61=pd.read_excel(\"/content/drive/MyDrive/BSC-dpdm23_flie/project/kh-muul-ubatiehtubnthaangphiess-piingbpramaan-2561-t-kh-60-k-y-61.xlsx\")\n",
        "data_60=pd.read_excel(\"/content/drive/MyDrive/BSC-dpdm23_flie/project/kh-muul-ubatiehtubnthaangphiess-piingbpramaan-2560-t-kh-59-k-y-60.xlsx\")\n",
        "data_59=pd.read_excel(\"/content/drive/MyDrive/BSC-dpdm23_flie/project/kh-muul-ubatiehtubnthaangphiess-piingbpramaan-2559-t-kh-58-k-y-59.xlsx\")\n"
      ],
      "metadata": {
        "id": "7hM9Q5FXfRge"
      },
      "execution_count": 26,
      "outputs": []
    },
    {
      "cell_type": "code",
      "source": [
        "data_65.isnull().any()"
      ],
      "metadata": {
        "colab": {
          "base_uri": "https://localhost:8080/"
        },
        "id": "kO-uPlqGiCU9",
        "outputId": "581df9dc-eef2-454f-e895-10a1b2702de8"
      },
      "execution_count": 27,
      "outputs": [
        {
          "output_type": "execute_result",
          "data": {
            "text/plain": [
              "accident_date    False\n",
              "accident_time    False\n",
              "expw_step        False\n",
              "weather_state    False\n",
              "injur_man        False\n",
              "injur_femel      False\n",
              "dead_man         False\n",
              "dead_femel       False\n",
              "cause            False\n",
              "dtype: bool"
            ]
          },
          "metadata": {},
          "execution_count": 27
        }
      ]
    },
    {
      "cell_type": "code",
      "source": [
        "data_64.isnull().any()"
      ],
      "metadata": {
        "colab": {
          "base_uri": "https://localhost:8080/"
        },
        "id": "i2jPr61ciSIN",
        "outputId": "886e62a4-ede8-4d7b-c915-b0e985b88dd3"
      },
      "execution_count": 28,
      "outputs": [
        {
          "output_type": "execute_result",
          "data": {
            "text/plain": [
              "accident_date    False\n",
              "accident_time    False\n",
              "step             False\n",
              "ad_state         False\n",
              "acman_rec        False\n",
              "acfem_rec        False\n",
              "deadman_rec      False\n",
              "deadfem_rec      False\n",
              "cause_type       False\n",
              "dtype: bool"
            ]
          },
          "metadata": {},
          "execution_count": 28
        }
      ]
    },
    {
      "cell_type": "code",
      "source": [
        "data_63.isnull().any()"
      ],
      "metadata": {
        "colab": {
          "base_uri": "https://localhost:8080/"
        },
        "id": "Gw68AImDiUgV",
        "outputId": "6d54462d-4db2-44ed-ada0-18af9c0bd5d0"
      },
      "execution_count": 29,
      "outputs": [
        {
          "output_type": "execute_result",
          "data": {
            "text/plain": [
              "accident_date    False\n",
              "accident_time    False\n",
              "expw_step        False\n",
              "weather_state    False\n",
              "injur_man        False\n",
              "injur_femel      False\n",
              "dead_man         False\n",
              "dead_femel       False\n",
              "cause            False\n",
              "dtype: bool"
            ]
          },
          "metadata": {},
          "execution_count": 29
        }
      ]
    },
    {
      "cell_type": "code",
      "source": [
        "data_62.isnull().any()"
      ],
      "metadata": {
        "colab": {
          "base_uri": "https://localhost:8080/"
        },
        "id": "W5xt7OwKiUy7",
        "outputId": "de9c5d7a-d8ac-4ffc-d13f-b903bf2bdaa3"
      },
      "execution_count": 30,
      "outputs": [
        {
          "output_type": "execute_result",
          "data": {
            "text/plain": [
              "accident_date    False\n",
              "accident_time    False\n",
              "expw_step        False\n",
              "weather_state    False\n",
              "injur_man        False\n",
              "injur_femel      False\n",
              "dead_man         False\n",
              "dead_femel       False\n",
              "cause            False\n",
              "dtype: bool"
            ]
          },
          "metadata": {},
          "execution_count": 30
        }
      ]
    },
    {
      "cell_type": "code",
      "source": [
        "data_61.isnull().any()"
      ],
      "metadata": {
        "colab": {
          "base_uri": "https://localhost:8080/"
        },
        "id": "evRMMtPuiVQE",
        "outputId": "05aad943-1cbc-4334-c707-3b2c179136c1"
      },
      "execution_count": 31,
      "outputs": [
        {
          "output_type": "execute_result",
          "data": {
            "text/plain": [
              "accident_date    False\n",
              "accident_time    False\n",
              "expw_step        False\n",
              "weather_state    False\n",
              "injur_man        False\n",
              "injur_femel      False\n",
              "dead_man         False\n",
              "dead_femel       False\n",
              "cause            False\n",
              "dtype: bool"
            ]
          },
          "metadata": {},
          "execution_count": 31
        }
      ]
    },
    {
      "cell_type": "code",
      "source": [
        "data_60.isnull().any()"
      ],
      "metadata": {
        "colab": {
          "base_uri": "https://localhost:8080/"
        },
        "id": "TYgEgsx7iVqs",
        "outputId": "73f12f81-436d-4d88-b696-a6bb0a32d438"
      },
      "execution_count": 32,
      "outputs": [
        {
          "output_type": "execute_result",
          "data": {
            "text/plain": [
              "accident_date    False\n",
              "accident_time    False\n",
              "expw_step        False\n",
              "weather_state    False\n",
              "injur_man        False\n",
              "injur_femel      False\n",
              "dead_man         False\n",
              "dead_femel       False\n",
              "cause            False\n",
              "dtype: bool"
            ]
          },
          "metadata": {},
          "execution_count": 32
        }
      ]
    },
    {
      "cell_type": "code",
      "source": [
        "data_59.isnull().any()"
      ],
      "metadata": {
        "colab": {
          "base_uri": "https://localhost:8080/"
        },
        "id": "y_-2-1k_iWH8",
        "outputId": "fc5f8078-031a-409b-f808-c956741627d4"
      },
      "execution_count": 33,
      "outputs": [
        {
          "output_type": "execute_result",
          "data": {
            "text/plain": [
              "accident_date    False\n",
              "accident_time    False\n",
              "expw_step        False\n",
              "weather_state    False\n",
              "injur_man        False\n",
              "injur_femel      False\n",
              "dead_man         False\n",
              "dead_femel       False\n",
              "cause            False\n",
              "dtype: bool"
            ]
          },
          "metadata": {},
          "execution_count": 33
        }
      ]
    },
    {
      "cell_type": "markdown",
      "source": [
        "## concat ครั้งที่1\n",
        "พบว่ามีบ้าง ปีที่ชื่อ column ไม่ตรงกับตารางอื่นๆ"
      ],
      "metadata": {
        "id": "KT-o9VAimzJT"
      }
    },
    {
      "cell_type": "code",
      "source": [
        "pd.concat([data_59,data_60,data_61,data_62,data_63,data_64]).head()"
      ],
      "metadata": {
        "colab": {
          "base_uri": "https://localhost:8080/",
          "height": 417
        },
        "id": "ZB3NlMh1it8N",
        "outputId": "18fad1ba-11cb-4863-888b-a6a01050193e"
      },
      "execution_count": 41,
      "outputs": [
        {
          "output_type": "execute_result",
          "data": {
            "text/plain": [
              "  accident_date accident_time expw_step weather_state  injur_man  injur_femel  \\\n",
              "0    2016-03-15      07:23:23    ศรีรัช          ปกติ        0.0          0.0   \n",
              "1    2016-07-27      12:22:22    ศรีรัช          ปกติ        0.0          0.0   \n",
              "2    2015-12-09      14:40:40    ศรีรัช          ปกติ        0.0          0.0   \n",
              "3    2016-08-20      17:01:01    ศรีรัช          ปกติ        0.0          0.0   \n",
              "4    2016-04-23      09:18:18    ศรีรัช          ปกติ        0.0          0.0   \n",
              "\n",
              "   dead_man  dead_femel                      cause step ad_state  acman_rec  \\\n",
              "0       0.0         0.0                โรคประจำตัว  NaN      NaN        NaN   \n",
              "1       0.0         0.0                          -  NaN      NaN        NaN   \n",
              "2       0.0         0.0  ทำโทรศัพย์หล่นแล้วก้มหยิบ  NaN      NaN        NaN   \n",
              "3       0.0         0.0                ก้มหยิบเงิน  NaN      NaN        NaN   \n",
              "4       0.0         0.0                 บรรทุกหนัก  NaN      NaN        NaN   \n",
              "\n",
              "   acfem_rec  deadman_rec  deadfem_rec cause_type  \n",
              "0        NaN          NaN          NaN        NaN  \n",
              "1        NaN          NaN          NaN        NaN  \n",
              "2        NaN          NaN          NaN        NaN  \n",
              "3        NaN          NaN          NaN        NaN  \n",
              "4        NaN          NaN          NaN        NaN  "
            ],
            "text/html": [
              "\n",
              "  <div id=\"df-806b9f91-99af-4f51-a7cf-8a9e11809f64\" class=\"colab-df-container\">\n",
              "    <div>\n",
              "<style scoped>\n",
              "    .dataframe tbody tr th:only-of-type {\n",
              "        vertical-align: middle;\n",
              "    }\n",
              "\n",
              "    .dataframe tbody tr th {\n",
              "        vertical-align: top;\n",
              "    }\n",
              "\n",
              "    .dataframe thead th {\n",
              "        text-align: right;\n",
              "    }\n",
              "</style>\n",
              "<table border=\"1\" class=\"dataframe\">\n",
              "  <thead>\n",
              "    <tr style=\"text-align: right;\">\n",
              "      <th></th>\n",
              "      <th>accident_date</th>\n",
              "      <th>accident_time</th>\n",
              "      <th>expw_step</th>\n",
              "      <th>weather_state</th>\n",
              "      <th>injur_man</th>\n",
              "      <th>injur_femel</th>\n",
              "      <th>dead_man</th>\n",
              "      <th>dead_femel</th>\n",
              "      <th>cause</th>\n",
              "      <th>step</th>\n",
              "      <th>ad_state</th>\n",
              "      <th>acman_rec</th>\n",
              "      <th>acfem_rec</th>\n",
              "      <th>deadman_rec</th>\n",
              "      <th>deadfem_rec</th>\n",
              "      <th>cause_type</th>\n",
              "    </tr>\n",
              "  </thead>\n",
              "  <tbody>\n",
              "    <tr>\n",
              "      <th>0</th>\n",
              "      <td>2016-03-15</td>\n",
              "      <td>07:23:23</td>\n",
              "      <td>ศรีรัช</td>\n",
              "      <td>ปกติ</td>\n",
              "      <td>0.0</td>\n",
              "      <td>0.0</td>\n",
              "      <td>0.0</td>\n",
              "      <td>0.0</td>\n",
              "      <td>โรคประจำตัว</td>\n",
              "      <td>NaN</td>\n",
              "      <td>NaN</td>\n",
              "      <td>NaN</td>\n",
              "      <td>NaN</td>\n",
              "      <td>NaN</td>\n",
              "      <td>NaN</td>\n",
              "      <td>NaN</td>\n",
              "    </tr>\n",
              "    <tr>\n",
              "      <th>1</th>\n",
              "      <td>2016-07-27</td>\n",
              "      <td>12:22:22</td>\n",
              "      <td>ศรีรัช</td>\n",
              "      <td>ปกติ</td>\n",
              "      <td>0.0</td>\n",
              "      <td>0.0</td>\n",
              "      <td>0.0</td>\n",
              "      <td>0.0</td>\n",
              "      <td>-</td>\n",
              "      <td>NaN</td>\n",
              "      <td>NaN</td>\n",
              "      <td>NaN</td>\n",
              "      <td>NaN</td>\n",
              "      <td>NaN</td>\n",
              "      <td>NaN</td>\n",
              "      <td>NaN</td>\n",
              "    </tr>\n",
              "    <tr>\n",
              "      <th>2</th>\n",
              "      <td>2015-12-09</td>\n",
              "      <td>14:40:40</td>\n",
              "      <td>ศรีรัช</td>\n",
              "      <td>ปกติ</td>\n",
              "      <td>0.0</td>\n",
              "      <td>0.0</td>\n",
              "      <td>0.0</td>\n",
              "      <td>0.0</td>\n",
              "      <td>ทำโทรศัพย์หล่นแล้วก้มหยิบ</td>\n",
              "      <td>NaN</td>\n",
              "      <td>NaN</td>\n",
              "      <td>NaN</td>\n",
              "      <td>NaN</td>\n",
              "      <td>NaN</td>\n",
              "      <td>NaN</td>\n",
              "      <td>NaN</td>\n",
              "    </tr>\n",
              "    <tr>\n",
              "      <th>3</th>\n",
              "      <td>2016-08-20</td>\n",
              "      <td>17:01:01</td>\n",
              "      <td>ศรีรัช</td>\n",
              "      <td>ปกติ</td>\n",
              "      <td>0.0</td>\n",
              "      <td>0.0</td>\n",
              "      <td>0.0</td>\n",
              "      <td>0.0</td>\n",
              "      <td>ก้มหยิบเงิน</td>\n",
              "      <td>NaN</td>\n",
              "      <td>NaN</td>\n",
              "      <td>NaN</td>\n",
              "      <td>NaN</td>\n",
              "      <td>NaN</td>\n",
              "      <td>NaN</td>\n",
              "      <td>NaN</td>\n",
              "    </tr>\n",
              "    <tr>\n",
              "      <th>4</th>\n",
              "      <td>2016-04-23</td>\n",
              "      <td>09:18:18</td>\n",
              "      <td>ศรีรัช</td>\n",
              "      <td>ปกติ</td>\n",
              "      <td>0.0</td>\n",
              "      <td>0.0</td>\n",
              "      <td>0.0</td>\n",
              "      <td>0.0</td>\n",
              "      <td>บรรทุกหนัก</td>\n",
              "      <td>NaN</td>\n",
              "      <td>NaN</td>\n",
              "      <td>NaN</td>\n",
              "      <td>NaN</td>\n",
              "      <td>NaN</td>\n",
              "      <td>NaN</td>\n",
              "      <td>NaN</td>\n",
              "    </tr>\n",
              "  </tbody>\n",
              "</table>\n",
              "</div>\n",
              "    <div class=\"colab-df-buttons\">\n",
              "\n",
              "  <div class=\"colab-df-container\">\n",
              "    <button class=\"colab-df-convert\" onclick=\"convertToInteractive('df-806b9f91-99af-4f51-a7cf-8a9e11809f64')\"\n",
              "            title=\"Convert this dataframe to an interactive table.\"\n",
              "            style=\"display:none;\">\n",
              "\n",
              "  <svg xmlns=\"http://www.w3.org/2000/svg\" height=\"24px\" viewBox=\"0 -960 960 960\">\n",
              "    <path d=\"M120-120v-720h720v720H120Zm60-500h600v-160H180v160Zm220 220h160v-160H400v160Zm0 220h160v-160H400v160ZM180-400h160v-160H180v160Zm440 0h160v-160H620v160ZM180-180h160v-160H180v160Zm440 0h160v-160H620v160Z\"/>\n",
              "  </svg>\n",
              "    </button>\n",
              "\n",
              "  <style>\n",
              "    .colab-df-container {\n",
              "      display:flex;\n",
              "      gap: 12px;\n",
              "    }\n",
              "\n",
              "    .colab-df-convert {\n",
              "      background-color: #E8F0FE;\n",
              "      border: none;\n",
              "      border-radius: 50%;\n",
              "      cursor: pointer;\n",
              "      display: none;\n",
              "      fill: #1967D2;\n",
              "      height: 32px;\n",
              "      padding: 0 0 0 0;\n",
              "      width: 32px;\n",
              "    }\n",
              "\n",
              "    .colab-df-convert:hover {\n",
              "      background-color: #E2EBFA;\n",
              "      box-shadow: 0px 1px 2px rgba(60, 64, 67, 0.3), 0px 1px 3px 1px rgba(60, 64, 67, 0.15);\n",
              "      fill: #174EA6;\n",
              "    }\n",
              "\n",
              "    .colab-df-buttons div {\n",
              "      margin-bottom: 4px;\n",
              "    }\n",
              "\n",
              "    [theme=dark] .colab-df-convert {\n",
              "      background-color: #3B4455;\n",
              "      fill: #D2E3FC;\n",
              "    }\n",
              "\n",
              "    [theme=dark] .colab-df-convert:hover {\n",
              "      background-color: #434B5C;\n",
              "      box-shadow: 0px 1px 3px 1px rgba(0, 0, 0, 0.15);\n",
              "      filter: drop-shadow(0px 1px 2px rgba(0, 0, 0, 0.3));\n",
              "      fill: #FFFFFF;\n",
              "    }\n",
              "  </style>\n",
              "\n",
              "    <script>\n",
              "      const buttonEl =\n",
              "        document.querySelector('#df-806b9f91-99af-4f51-a7cf-8a9e11809f64 button.colab-df-convert');\n",
              "      buttonEl.style.display =\n",
              "        google.colab.kernel.accessAllowed ? 'block' : 'none';\n",
              "\n",
              "      async function convertToInteractive(key) {\n",
              "        const element = document.querySelector('#df-806b9f91-99af-4f51-a7cf-8a9e11809f64');\n",
              "        const dataTable =\n",
              "          await google.colab.kernel.invokeFunction('convertToInteractive',\n",
              "                                                    [key], {});\n",
              "        if (!dataTable) return;\n",
              "\n",
              "        const docLinkHtml = 'Like what you see? Visit the ' +\n",
              "          '<a target=\"_blank\" href=https://colab.research.google.com/notebooks/data_table.ipynb>data table notebook</a>'\n",
              "          + ' to learn more about interactive tables.';\n",
              "        element.innerHTML = '';\n",
              "        dataTable['output_type'] = 'display_data';\n",
              "        await google.colab.output.renderOutput(dataTable, element);\n",
              "        const docLink = document.createElement('div');\n",
              "        docLink.innerHTML = docLinkHtml;\n",
              "        element.appendChild(docLink);\n",
              "      }\n",
              "    </script>\n",
              "  </div>\n",
              "\n",
              "\n",
              "<div id=\"df-5eb402f0-c92a-46b1-bddd-e7f3937f46bd\">\n",
              "  <button class=\"colab-df-quickchart\" onclick=\"quickchart('df-5eb402f0-c92a-46b1-bddd-e7f3937f46bd')\"\n",
              "            title=\"Suggest charts\"\n",
              "            style=\"display:none;\">\n",
              "\n",
              "<svg xmlns=\"http://www.w3.org/2000/svg\" height=\"24px\"viewBox=\"0 0 24 24\"\n",
              "     width=\"24px\">\n",
              "    <g>\n",
              "        <path d=\"M19 3H5c-1.1 0-2 .9-2 2v14c0 1.1.9 2 2 2h14c1.1 0 2-.9 2-2V5c0-1.1-.9-2-2-2zM9 17H7v-7h2v7zm4 0h-2V7h2v10zm4 0h-2v-4h2v4z\"/>\n",
              "    </g>\n",
              "</svg>\n",
              "  </button>\n",
              "\n",
              "<style>\n",
              "  .colab-df-quickchart {\n",
              "      --bg-color: #E8F0FE;\n",
              "      --fill-color: #1967D2;\n",
              "      --hover-bg-color: #E2EBFA;\n",
              "      --hover-fill-color: #174EA6;\n",
              "      --disabled-fill-color: #AAA;\n",
              "      --disabled-bg-color: #DDD;\n",
              "  }\n",
              "\n",
              "  [theme=dark] .colab-df-quickchart {\n",
              "      --bg-color: #3B4455;\n",
              "      --fill-color: #D2E3FC;\n",
              "      --hover-bg-color: #434B5C;\n",
              "      --hover-fill-color: #FFFFFF;\n",
              "      --disabled-bg-color: #3B4455;\n",
              "      --disabled-fill-color: #666;\n",
              "  }\n",
              "\n",
              "  .colab-df-quickchart {\n",
              "    background-color: var(--bg-color);\n",
              "    border: none;\n",
              "    border-radius: 50%;\n",
              "    cursor: pointer;\n",
              "    display: none;\n",
              "    fill: var(--fill-color);\n",
              "    height: 32px;\n",
              "    padding: 0;\n",
              "    width: 32px;\n",
              "  }\n",
              "\n",
              "  .colab-df-quickchart:hover {\n",
              "    background-color: var(--hover-bg-color);\n",
              "    box-shadow: 0 1px 2px rgba(60, 64, 67, 0.3), 0 1px 3px 1px rgba(60, 64, 67, 0.15);\n",
              "    fill: var(--button-hover-fill-color);\n",
              "  }\n",
              "\n",
              "  .colab-df-quickchart-complete:disabled,\n",
              "  .colab-df-quickchart-complete:disabled:hover {\n",
              "    background-color: var(--disabled-bg-color);\n",
              "    fill: var(--disabled-fill-color);\n",
              "    box-shadow: none;\n",
              "  }\n",
              "\n",
              "  .colab-df-spinner {\n",
              "    border: 2px solid var(--fill-color);\n",
              "    border-color: transparent;\n",
              "    border-bottom-color: var(--fill-color);\n",
              "    animation:\n",
              "      spin 1s steps(1) infinite;\n",
              "  }\n",
              "\n",
              "  @keyframes spin {\n",
              "    0% {\n",
              "      border-color: transparent;\n",
              "      border-bottom-color: var(--fill-color);\n",
              "      border-left-color: var(--fill-color);\n",
              "    }\n",
              "    20% {\n",
              "      border-color: transparent;\n",
              "      border-left-color: var(--fill-color);\n",
              "      border-top-color: var(--fill-color);\n",
              "    }\n",
              "    30% {\n",
              "      border-color: transparent;\n",
              "      border-left-color: var(--fill-color);\n",
              "      border-top-color: var(--fill-color);\n",
              "      border-right-color: var(--fill-color);\n",
              "    }\n",
              "    40% {\n",
              "      border-color: transparent;\n",
              "      border-right-color: var(--fill-color);\n",
              "      border-top-color: var(--fill-color);\n",
              "    }\n",
              "    60% {\n",
              "      border-color: transparent;\n",
              "      border-right-color: var(--fill-color);\n",
              "    }\n",
              "    80% {\n",
              "      border-color: transparent;\n",
              "      border-right-color: var(--fill-color);\n",
              "      border-bottom-color: var(--fill-color);\n",
              "    }\n",
              "    90% {\n",
              "      border-color: transparent;\n",
              "      border-bottom-color: var(--fill-color);\n",
              "    }\n",
              "  }\n",
              "</style>\n",
              "\n",
              "  <script>\n",
              "    async function quickchart(key) {\n",
              "      const quickchartButtonEl =\n",
              "        document.querySelector('#' + key + ' button');\n",
              "      quickchartButtonEl.disabled = true;  // To prevent multiple clicks.\n",
              "      quickchartButtonEl.classList.add('colab-df-spinner');\n",
              "      try {\n",
              "        const charts = await google.colab.kernel.invokeFunction(\n",
              "            'suggestCharts', [key], {});\n",
              "      } catch (error) {\n",
              "        console.error('Error during call to suggestCharts:', error);\n",
              "      }\n",
              "      quickchartButtonEl.classList.remove('colab-df-spinner');\n",
              "      quickchartButtonEl.classList.add('colab-df-quickchart-complete');\n",
              "    }\n",
              "    (() => {\n",
              "      let quickchartButtonEl =\n",
              "        document.querySelector('#df-5eb402f0-c92a-46b1-bddd-e7f3937f46bd button');\n",
              "      quickchartButtonEl.style.display =\n",
              "        google.colab.kernel.accessAllowed ? 'block' : 'none';\n",
              "    })();\n",
              "  </script>\n",
              "</div>\n",
              "    </div>\n",
              "  </div>\n"
            ],
            "application/vnd.google.colaboratory.intrinsic+json": {
              "type": "dataframe",
              "repr_error": "'str' object has no attribute 'empty'"
            }
          },
          "metadata": {},
          "execution_count": 41
        }
      ]
    },
    {
      "cell_type": "code",
      "source": [
        "data_59.columns"
      ],
      "metadata": {
        "colab": {
          "base_uri": "https://localhost:8080/"
        },
        "id": "-xJQzbqIk9My",
        "outputId": "abf7f866-164b-4b80-c43c-7888a6cc7363"
      },
      "execution_count": 35,
      "outputs": [
        {
          "output_type": "execute_result",
          "data": {
            "text/plain": [
              "Index(['accident_date', 'accident_time', 'expw_step', 'weather_state',\n",
              "       'injur_man', 'injur_femel', 'dead_man', 'dead_femel', 'cause'],\n",
              "      dtype='object')"
            ]
          },
          "metadata": {},
          "execution_count": 35
        }
      ]
    },
    {
      "cell_type": "code",
      "source": [
        "data_60.columns"
      ],
      "metadata": {
        "colab": {
          "base_uri": "https://localhost:8080/"
        },
        "id": "C8FT7ov6lAs8",
        "outputId": "d8573714-b6d0-4288-f31a-08ee28ab883b"
      },
      "execution_count": 36,
      "outputs": [
        {
          "output_type": "execute_result",
          "data": {
            "text/plain": [
              "Index(['accident_date', 'accident_time', 'expw_step', 'weather_state',\n",
              "       'injur_man', 'injur_femel', 'dead_man', 'dead_femel', 'cause'],\n",
              "      dtype='object')"
            ]
          },
          "metadata": {},
          "execution_count": 36
        }
      ]
    },
    {
      "cell_type": "code",
      "source": [
        "data_61.columns"
      ],
      "metadata": {
        "colab": {
          "base_uri": "https://localhost:8080/"
        },
        "id": "y7sRWR9DlETI",
        "outputId": "e5d69668-9faf-4aad-94c8-e02199119ff1"
      },
      "execution_count": 37,
      "outputs": [
        {
          "output_type": "execute_result",
          "data": {
            "text/plain": [
              "Index(['accident_date', 'accident_time', 'expw_step', 'weather_state',\n",
              "       'injur_man', 'injur_femel', 'dead_man', 'dead_femel', 'cause'],\n",
              "      dtype='object')"
            ]
          },
          "metadata": {},
          "execution_count": 37
        }
      ]
    },
    {
      "cell_type": "code",
      "source": [
        "data_62.columns"
      ],
      "metadata": {
        "colab": {
          "base_uri": "https://localhost:8080/"
        },
        "id": "IAZWVdjhlHV8",
        "outputId": "c14fca70-6f3a-42b8-f898-2d706ab16ff7"
      },
      "execution_count": 39,
      "outputs": [
        {
          "output_type": "execute_result",
          "data": {
            "text/plain": [
              "Index(['accident_date', 'accident_time', 'expw_step', 'weather_state',\n",
              "       'injur_man', 'injur_femel', 'dead_man', 'dead_femel', 'cause'],\n",
              "      dtype='object')"
            ]
          },
          "metadata": {},
          "execution_count": 39
        }
      ]
    },
    {
      "cell_type": "code",
      "source": [
        "data_64.columns"
      ],
      "metadata": {
        "colab": {
          "base_uri": "https://localhost:8080/"
        },
        "id": "RAUiZBsamroT",
        "outputId": "6b651612-919d-4be0-e727-361347538aff"
      },
      "execution_count": 40,
      "outputs": [
        {
          "output_type": "execute_result",
          "data": {
            "text/plain": [
              "Index(['accident_date', 'accident_time', 'step', 'ad_state', 'acman_rec',\n",
              "       'acfem_rec', 'deadman_rec', 'deadfem_rec', 'cause_type'],\n",
              "      dtype='object')"
            ]
          },
          "metadata": {},
          "execution_count": 40
        }
      ]
    },
    {
      "cell_type": "code",
      "source": [
        "data_64=data_64.rename(columns = {'step':'expw_step','ad_state':'weather_state','acman_rec':'injur_man','acfem_rec':'injur_femel'\n",
        ",'deadman_rec':'dead_man','deadfem_rec':'dead_femel','cause_type':'cause'})"
      ],
      "metadata": {
        "id": "2qcar8AAmut7"
      },
      "execution_count": 44,
      "outputs": []
    },
    {
      "cell_type": "code",
      "source": [
        "use_data=pd.concat([data_59,data_60,data_61,data_62,data_63,data_64]).reset_index().drop(\"index\",axis=1)"
      ],
      "metadata": {
        "id": "jfzbd_wjwSpS"
      },
      "execution_count": 54,
      "outputs": []
    },
    {
      "cell_type": "code",
      "source": [
        "use_data.to_excel('use_data.xlsx')"
      ],
      "metadata": {
        "id": "fjU5PG7dxkdK"
      },
      "execution_count": 56,
      "outputs": []
    }
  ]
}