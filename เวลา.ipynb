{
  "nbformat": 4,
  "nbformat_minor": 0,
  "metadata": {
    "colab": {
      "provenance": [],
      "authorship_tag": "ABX9TyOXyTYrZ5U1LapioBLdpa6X",
      "include_colab_link": true
    },
    "kernelspec": {
      "name": "python3",
      "display_name": "Python 3"
    },
    "language_info": {
      "name": "python"
    }
  },
  "cells": [
    {
      "cell_type": "markdown",
      "metadata": {
        "id": "view-in-github",
        "colab_type": "text"
      },
      "source": [
        "<a href=\"https://colab.research.google.com/github/MOOwuttichai/BSC_DPDM2023/blob/main/%E0%B9%80%E0%B8%A7%E0%B8%A5%E0%B8%B2.ipynb\" target=\"_parent\"><img src=\"https://colab.research.google.com/assets/colab-badge.svg\" alt=\"Open In Colab\"/></a>"
      ]
    },
    {
      "cell_type": "code",
      "source": [
        "/html/body/div[1]/div/div/div[1]/div/div[3]/div/div/div[1]/div[1]/div/div/div/div[2]/div/div/div/div/div/div/div/div/div/div[2]/div/div/div[4]/div/div/div[2]/div[3]/div[8]/div/div[1]/div[2]/div[2]/div[1]/div[1]/div/div/div/span/div/div/div\n",
        "/html/body/div[1]/div/div/div[1]/div/div[3]/div/div/div[1]/div[1]/div/div/div/div[2]/div/div/div/div/div/div/div/div/div/div[2]/div/div/div[4]/div/div/div[2]/div[3]/div[9]/div/div[1]/div[2]/div[2]/div[1]/div[1]/div/div/div/span/div/div/div\n",
        "/html/body/div[1]/div/div/div[1]/div/div[3]/div/div/div[1]/div[1]/div/div/div/div[2]/div/div/div/div/div/div/div/div/div/div[2]/div/div/div[4]/div/div/div[2]/div[3]/div[10]/div/div[1]/div[2]/div[2]/div[1]/div[1]/div/div/div/span/div/div/div\n",
        "/html/body/div[1]/div/div/div[1]/div/div[3]/div/div/div[1]/div[1]/div/div/div/div[2]/div/div/div/div/div/div/div/div/div/div[2]/div/div/div[4]/div/div/div[2]/div[3]/div[10]/div/div[1]/div[2]/div[2]/div[1]/div[1]/div/div/div/span/div/div/div\n",
        "/html/body/div[1]/div/div/div[1]/div/div[3]/div/div/div[1]/div[1]/div/div/div/div[2]/div/div/div/div/div/div/div/div/div/div[2]/div/div/div[4]/div/div/div[2]/div[3]/div[18]/div/div[1]/div[2]/div[2]/div[1]/div[1]/div/div/div/span/div/div/div"
      ],
      "metadata": {
        "id": "dIGCriW13Olu"
      },
      "execution_count": null,
      "outputs": []
    },
    {
      "cell_type": "code",
      "execution_count": null,
      "metadata": {
        "id": "PEs_58CpdE0w"
      },
      "outputs": [],
      "source": [
        "/html/body/div[1]/div/div/div[1]/div/div[3]/div/div/div[1]/div[1]/div/div/div/div[2]/div/div/div/div/div/div/div/div/div/div[2]/div/div/div[4]/div/div/div[2]/div[3]/div[9]/div/div[1]/div[2]/div[2]/div[1]/div[1]/div/div/div/span/div/div/div\n",
        "/html/body/div[1]/div/div/div[1]/div/div[3]/div/div/div[1]/div[1]/div/div/div/div[2]/div/div/div/div/div/div/div/div/div/div[2]/div/div/div[4]/div/div/div[2]/div[3]/div[18]/div/div[1]/div[2]/div[2]/div[1]/div[1]/div/div/div/span/div/div/div"
      ]
    },
    {
      "cell_type": "code",
      "source": [
        "from datetime import datetime, timedelta\n",
        "def calculate_past_date(time_intervals):\n",
        "    \"\"\"\n",
        "    คำนวณเวลา โดยที่ถ้าข้อมูลให้มาคือ '36 สัปดาห์','5 ปี', '6 วัน'\n",
        "    หากต้องการย้อนกับไปจะตรงกับวันที่เท่าไร\n",
        "\n",
        "    Args:\n",
        "        time_intervals: รายการของช่วงเวลา เช่น ['36 สัปดาห์','5 ปี', '6 วัน']\n",
        "\n",
        "    Returns:\n",
        "        วันที่ที่คำนวณย้อนกลับไป\n",
        "    \"\"\"\n",
        "    today = datetime.now()\n",
        "\n",
        "    for interval in time_intervals:\n",
        "        value = int(interval.split()[0])\n",
        "        unit = interval.split()[1]\n",
        "        if unit == 'สัปดาห์':\n",
        "            today -= timedelta(weeks=value)\n",
        "        elif unit == 'ปี':\n",
        "            today -= timedelta(days=value * 365)  # ประมาณการปีเป็น 365 วัน\n",
        "        elif unit == 'วัน':\n",
        "            today -= timedelta(days=value)\n",
        "        else:\n",
        "            today = today\n",
        "    formatted_date = today.strftime(\"%d/%m/%Y\")\n",
        "    return formatted_date"
      ],
      "metadata": {
        "id": "1ovoGgo8GSv2"
      },
      "execution_count": 32,
      "outputs": []
    },
    {
      "cell_type": "code",
      "source": [
        "calculate_past_date('17 สัปดาห์')"
      ],
      "metadata": {
        "colab": {
          "base_uri": "https://localhost:8080/",
          "height": 273
        },
        "id": "AWGHf9PqVVvK",
        "outputId": "b4b2dfd4-e050-41a8-ab80-19ad10b5107d"
      },
      "execution_count": 36,
      "outputs": [
        {
          "output_type": "error",
          "ename": "IndexError",
          "evalue": "list index out of range",
          "traceback": [
            "\u001b[0;31m---------------------------------------------------------------------------\u001b[0m",
            "\u001b[0;31mIndexError\u001b[0m                                Traceback (most recent call last)",
            "\u001b[0;32m<ipython-input-36-66fb982c1504>\u001b[0m in \u001b[0;36m<cell line: 1>\u001b[0;34m()\u001b[0m\n\u001b[0;32m----> 1\u001b[0;31m \u001b[0mcalculate_past_date\u001b[0m\u001b[0;34m(\u001b[0m\u001b[0;34m'17 สัปดาห์'\u001b[0m\u001b[0;34m)\u001b[0m\u001b[0;34m\u001b[0m\u001b[0;34m\u001b[0m\u001b[0m\n\u001b[0m",
            "\u001b[0;32m<ipython-input-32-05f8d007cef3>\u001b[0m in \u001b[0;36mcalculate_past_date\u001b[0;34m(time_intervals)\u001b[0m\n\u001b[1;32m     15\u001b[0m     \u001b[0;32mfor\u001b[0m \u001b[0minterval\u001b[0m \u001b[0;32min\u001b[0m \u001b[0mtime_intervals\u001b[0m\u001b[0;34m:\u001b[0m\u001b[0;34m\u001b[0m\u001b[0;34m\u001b[0m\u001b[0m\n\u001b[1;32m     16\u001b[0m         \u001b[0mvalue\u001b[0m \u001b[0;34m=\u001b[0m \u001b[0mint\u001b[0m\u001b[0;34m(\u001b[0m\u001b[0minterval\u001b[0m\u001b[0;34m.\u001b[0m\u001b[0msplit\u001b[0m\u001b[0;34m(\u001b[0m\u001b[0;34m)\u001b[0m\u001b[0;34m[\u001b[0m\u001b[0;36m0\u001b[0m\u001b[0;34m]\u001b[0m\u001b[0;34m)\u001b[0m\u001b[0;34m\u001b[0m\u001b[0;34m\u001b[0m\u001b[0m\n\u001b[0;32m---> 17\u001b[0;31m         \u001b[0munit\u001b[0m \u001b[0;34m=\u001b[0m \u001b[0minterval\u001b[0m\u001b[0;34m.\u001b[0m\u001b[0msplit\u001b[0m\u001b[0;34m(\u001b[0m\u001b[0;34m)\u001b[0m\u001b[0;34m[\u001b[0m\u001b[0;36m1\u001b[0m\u001b[0;34m]\u001b[0m\u001b[0;34m\u001b[0m\u001b[0;34m\u001b[0m\u001b[0m\n\u001b[0m\u001b[1;32m     18\u001b[0m         \u001b[0;32mif\u001b[0m \u001b[0munit\u001b[0m \u001b[0;34m==\u001b[0m \u001b[0;34m'สัปดาห์'\u001b[0m\u001b[0;34m:\u001b[0m\u001b[0;34m\u001b[0m\u001b[0;34m\u001b[0m\u001b[0m\n\u001b[1;32m     19\u001b[0m             \u001b[0mtoday\u001b[0m \u001b[0;34m-=\u001b[0m \u001b[0mtimedelta\u001b[0m\u001b[0;34m(\u001b[0m\u001b[0mweeks\u001b[0m\u001b[0;34m=\u001b[0m\u001b[0mvalue\u001b[0m\u001b[0;34m)\u001b[0m\u001b[0;34m\u001b[0m\u001b[0;34m\u001b[0m\u001b[0m\n",
            "\u001b[0;31mIndexError\u001b[0m: list index out of range"
          ]
        }
      ]
    },
    {
      "cell_type": "code",
      "source": [
        "'19 สัปดาห์'.split()[1]"
      ],
      "metadata": {
        "colab": {
          "base_uri": "https://localhost:8080/",
          "height": 36
        },
        "id": "a7nvsnqaU755",
        "outputId": "7ed09982-e191-4266-b0d5-e4be5c3dc82a"
      },
      "execution_count": 24,
      "outputs": [
        {
          "output_type": "execute_result",
          "data": {
            "text/plain": [
              "'สัปดาห์'"
            ],
            "application/vnd.google.colaboratory.intrinsic+json": {
              "type": "string"
            }
          },
          "metadata": {},
          "execution_count": 24
        }
      ]
    },
    {
      "cell_type": "code",
      "source": [
        "ko = ['19 สัปดาห์','19 สัปดาห์', '19 สัปดาห์', '19 สัปดาห์', '17 สัปดาห์', '21 สัปดาห์', '19 สัปดาห์', '22 สัปดาห์']\n",
        "time_smp = []\n",
        "for time_loop in ko:\n",
        "    time_loop_l = [time_loop]\n",
        "    past_date = calculate_past_date(time_loop_l)\n",
        "    time_smp.append(past_date)\n",
        "time_smp"
      ],
      "metadata": {
        "colab": {
          "base_uri": "https://localhost:8080/"
        },
        "id": "i224hB2lUd5M",
        "outputId": "9ba1c6a3-6954-4559-9cf2-a82cae4df11a"
      },
      "execution_count": 41,
      "outputs": [
        {
          "output_type": "execute_result",
          "data": {
            "text/plain": [
              "['28/04/2024',\n",
              " '28/04/2024',\n",
              " '28/04/2024',\n",
              " '28/04/2024',\n",
              " '12/05/2024',\n",
              " '14/04/2024',\n",
              " '28/04/2024',\n",
              " '07/04/2024']"
            ]
          },
          "metadata": {},
          "execution_count": 41
        }
      ]
    },
    {
      "cell_type": "code",
      "source": [
        "time_kk =[0, '22 สัปดาห์', '19 สัปดาห์', '19 สัปดาห์', '19 สัปดาห์', '17 สัปดาห์', '21 สัปดาห์', '19 สัปดาห์', '22 สัปดาห์', '22 สัปดาห์', '22 สัปดาห์', '21 สัปดาห์', '21 สัปดาห์', '21 สัปดาห์', '19 สัปดาห์', '22 สัปดาห์', '22 สัปดาห์', '22 สัปดาห์', '22 สัปดาห์', '22 สัปดาห์', '19 สัปดาห์', '19 สัปดาห์', '21 สัปดาห์', '22 สัปดาห์', '21 สัปดาห์', '22 สัปดาห์', '22 สัปดาห์', '19 สัปดาห์', '22 สัปดาห์', '19 สัปดาห์', '22 สัปดาห์', '22 สัปดาห์', '22 สัปดาห์', '22 สัปดาห์', '22 สัปดาห์', '22 สัปดาห์', '19 สัปดาห์', '20 สัปดาห์', '22 สัปดาห์', '22 สัปดาห์', '21 สัปดาห์', '22 สัปดาห์', '22 สัปดาห์', '19 สัปดาห์', '22 สัปดาห์', '22 สัปดาห์', '22 สัปดาห์', '19 สัปดาห์', '19 สัปดาห์', '21 สัปดาห์', '19 สัปดาห์', '17 สัปดาห์', '22 สัปดาห์', '19 สัปดาห์', '21 สัปดาห์', '22 สัปดาห์', '19 สัปดาห์', '19 สัปดาห์', '22 สัปดาห์', '19 สัปดาห์', '22 สัปดาห์', '19 สัปดาห์', '19 สัปดาห์', '21 สัปดาห์', '19 สัปดาห์', '19 สัปดาห์', '22 สัปดาห์', '19 สัปดาห์', '21 สัปดาห์', '22 สัปดาห์', '22 สัปดาห์', '17 สัปดาห์', '22 สัปดาห์', '22 สัปดาห์', '19 สัปดาห์', '19 สัปดาห์', '19 สัปดาห์', '22 สัปดาห์', '19 สัปดาห์', '19 สัปดาห์', '18 สัปดาห์', '19 สัปดาห์', '19 สัปดาห์', '22 สัปดาห์', '19 สัปดาห์','19 สัปดาห์', '17 สัปดาห์', '22 สัปดาห์', '22 สัปดาห์', '19 สัปดาห์', '21 สัปดาห์', '21 สัปดาห์', '22 สัปดาห์', '19 สัปดาห์', '19 สัปดาห์', '19 สัปดาห์', '19 สัปดาห์', '22 สัปดาห์', '19 สัปดาห์', '20 สัปดาห์', '19 สัปดาห์', '22 สัปดาห์', '17 สัปดาห์', '19 สัปดาห์', '22 สัปดาห์', '22 สัปดาห์', '17 สัปดาห์', '19 สัปดาห์', '22 สัปดาห์', '17 สัปดาห์', '21 สัปดาห์', '22 สัปดาห์', '22 สัปดาห์', '20 สัปดาห์', '17 สัปดาห์', '22 สัปดาห์', '22 สัปดาห์', '22 สัปดาห์', '22 สัปดาห์', '22 สัปดาห์', '22 สัปดาห์', '19 สัปดาห์', '22 สัปดาห์', '22 สัปดาห์', '22 สัปดาห์', '19 สัปดาห์', '19 สัปดาห์', '22 สัปดาห์', '22 สัปดาห์', '19 สัปดาห์', '22 สัปดาห์', '22 สัปดาห์', '20 สัปดาห์', '22 สัปดาห์', '22 สัปดาห์', '19 สัปดาห์', '19 สัปดาห์', '21 สัปดาห์', '22 สัปดาห์', '22 สัปดาห์', '22 สัปดาห์', '19 สัปดาห์', '19 สัปดาห์', '20 สัปดาห์', '20 สัปดาห์', '19 สัปดาห์', '19 สัปดาห์', '22 สัปดาห์', '19 สัปดาห์', '22 สัปดาห์', '19 สัปดาห์', '19 สัปดาห์', '22 สัปดาห์', '22 สัปดาห์', '19 สัปดาห์', '22 สัปดาห์', '19 สัปดาห์', '19 สัปดาห์', '19 สัปดาห์', '19 สัปดาห์', '19 สัปดาห์', '19 สัปดาห์', '20 สัปดาห์', '19 สัปดาห์', '19 สัปดาห์', '19 สัปดาห์', '19 สัปดาห์', '19 สัปดาห์', '20 สัปดาห์', '19 สัปดาห์', '19 สัปดาห์', '20 สัปดาห์', '20 สัปดาห์', '19 สัปดาห์', '20 สัปดาห์', '19 สัปดาห์', '22 สัปดาห์', '19 สัปดาห์', '19 สัปดาห์', '19 สัปดาห์', '19 สัปดาห์', '19 สัปดาห์', '19 สัปดาห์', '19 สัปดาห์', '20 สัปดาห์', '19 สัปดาห์', '20 สัปดาห์', '20 สัปดาห์', '19 สัปดาห์', '19 สัปดาห์', '20 สัปดาห์', '19 สัปดาห์', '19 สัปดาห์', '20 สัปดาห์', '19 สัปดาห์', '19 สัปดาห์', '19 สัปดาห์', '19 สัปดาห์', '20 สัปดาห์', '19 สัปดาห์', '19 สัปดาห์', '8 สัปดาห์', '20 สัปดาห์', '20 สัปดาห์', '19 สัปดาห์', '20 สัปดาห์', '19 สัปดาห์', '19 สัปดาห์', '20 สัปดาห์', '20 สัปดาห์', '19 สัปดาห์', '19 สัปดาห์', '19 สัปดาห์', '19 สัปดาห์', '20 สัปดาห์', '19 สัปดาห์', '20 สัปดาห์', '19 สัปดาห์', '19 สัปดาห์', '19 สัปดาห์', '19 สัปดาห์', '19 สัปดาห์', '19 สัปดาห์', '19 สัปดาห์', '19 สัปดาห์', '19 สัปดาห์', '19 สัปดาห์', '19 สัปดาห์', '20 สัปดาห์', '19 สัปดาห์', '19 สัปดาห์', '19 สัปดาห์', '19 สัปดาห์', '19 สัปดาห์', '19 สัปดาห์', '19 สัปดาห์', '19 สัปดาห์', '19 สัปดาห์', '19 สัปดาห์', '20 สัปดาห์', '19 สัปดาห์', '19 สัปดาห์', '20 สัปดาห์', '19 สัปดาห์', '19 สัปดาห์', '19 สัปดาห์', '19 สัปดาห์', '19 สัปดาห์', '19 สัปดาห์', '19 สัปดาห์', '19 สัปดาห์', '20 สัปดาห์', '19 สัปดาห์', '20 สัปดาห์', '19 สัปดาห์', '19 สัปดาห์', '19 สัปดาห์', '19 สัปดาห์', '19 สัปดาห์', '19 สัปดาห์', '19 สัปดาห์', '19 สัปดาห์', '20 สัปดาห์', '20 สัปดาห์', '20 สัปดาห์', '19 สัปดาห์', '19 สัปดาห์', '19 สัปดาห์', '19 สัปดาห์', '19 สัปดาห์', '19 สัปดาห์', '20 สัปดาห์', '19 สัปดาห์', '19 สัปดาห์', '19 สัปดาห์', '19 สัปดาห์', '19 สัปดาห์', '19 สัปดาห์', '19 สัปดาห์', '19 สัปดาห์', '20 สัปดาห์', '20 สัปดาห์', '19 สัปดาห์', '19 สัปดาห์', '20 สัปดาห์', '19 สัปดาห์', '19 สัปดาห์', 0]\n",
        "len(time_kk)"
      ],
      "metadata": {
        "colab": {
          "base_uri": "https://localhost:8080/"
        },
        "id": "IcOPjYlKFk8u",
        "outputId": "ccfd5e8b-08a1-45ae-e6ad-91cf13625db1"
      },
      "execution_count": 4,
      "outputs": [
        {
          "output_type": "execute_result",
          "data": {
            "text/plain": [
              "288"
            ]
          },
          "metadata": {},
          "execution_count": 4
        }
      ]
    },
    {
      "cell_type": "code",
      "source": [
        "time_kk[0]"
      ],
      "metadata": {
        "colab": {
          "base_uri": "https://localhost:8080/"
        },
        "id": "nkGHZMCpG3zH",
        "outputId": "bbc5a2f7-5e4d-4f03-8167-0ad23013854e"
      },
      "execution_count": 7,
      "outputs": [
        {
          "output_type": "execute_result",
          "data": {
            "text/plain": [
              "0"
            ]
          },
          "metadata": {},
          "execution_count": 7
        }
      ]
    },
    {
      "cell_type": "code",
      "source": [
        "# time_smp = []\n",
        "# for time_loop in time_kk[0]:\n",
        "for interval in time_kk[0]:\n",
        "    value = int(interval.split()[0])\n",
        "    unit = interval.split()[1]\n",
        "    print(value)\n",
        "    print(unit)\n",
        "    # past_date = calculate_past_date(time_loop)\n",
        "    # time_smp.append(past_date)"
      ],
      "metadata": {
        "colab": {
          "base_uri": "https://localhost:8080/",
          "height": 219
        },
        "id": "b5KFe2l5GQUs",
        "outputId": "70ec23fd-9005-4246-e85c-a3b1f016d336"
      },
      "execution_count": 6,
      "outputs": [
        {
          "output_type": "error",
          "ename": "TypeError",
          "evalue": "'int' object is not iterable",
          "traceback": [
            "\u001b[0;31m---------------------------------------------------------------------------\u001b[0m",
            "\u001b[0;31mTypeError\u001b[0m                                 Traceback (most recent call last)",
            "\u001b[0;32m<ipython-input-6-66174c9c8ffd>\u001b[0m in \u001b[0;36m<cell line: 3>\u001b[0;34m()\u001b[0m\n\u001b[1;32m      1\u001b[0m \u001b[0;31m# time_smp = []\u001b[0m\u001b[0;34m\u001b[0m\u001b[0;34m\u001b[0m\u001b[0m\n\u001b[1;32m      2\u001b[0m \u001b[0;31m# for time_loop in time_kk[0]:\u001b[0m\u001b[0;34m\u001b[0m\u001b[0;34m\u001b[0m\u001b[0m\n\u001b[0;32m----> 3\u001b[0;31m \u001b[0;32mfor\u001b[0m \u001b[0minterval\u001b[0m \u001b[0;32min\u001b[0m \u001b[0mtime_kk\u001b[0m\u001b[0;34m[\u001b[0m\u001b[0;36m0\u001b[0m\u001b[0;34m]\u001b[0m\u001b[0;34m:\u001b[0m\u001b[0;34m\u001b[0m\u001b[0;34m\u001b[0m\u001b[0m\n\u001b[0m\u001b[1;32m      4\u001b[0m     \u001b[0mvalue\u001b[0m \u001b[0;34m=\u001b[0m \u001b[0mint\u001b[0m\u001b[0;34m(\u001b[0m\u001b[0minterval\u001b[0m\u001b[0;34m.\u001b[0m\u001b[0msplit\u001b[0m\u001b[0;34m(\u001b[0m\u001b[0;34m)\u001b[0m\u001b[0;34m[\u001b[0m\u001b[0;36m0\u001b[0m\u001b[0;34m]\u001b[0m\u001b[0;34m)\u001b[0m\u001b[0;34m\u001b[0m\u001b[0;34m\u001b[0m\u001b[0m\n\u001b[1;32m      5\u001b[0m     \u001b[0munit\u001b[0m \u001b[0;34m=\u001b[0m \u001b[0minterval\u001b[0m\u001b[0;34m.\u001b[0m\u001b[0msplit\u001b[0m\u001b[0;34m(\u001b[0m\u001b[0;34m)\u001b[0m\u001b[0;34m[\u001b[0m\u001b[0;36m1\u001b[0m\u001b[0;34m]\u001b[0m\u001b[0;34m\u001b[0m\u001b[0;34m\u001b[0m\u001b[0m\n",
            "\u001b[0;31mTypeError\u001b[0m: 'int' object is not iterable"
          ]
        }
      ]
    },
    {
      "cell_type": "code",
      "source": [
        "from bs4 import BeautifulSoup\n",
        "times=[]\n",
        "s = '''[<time datetime=\"2024-08-05T04:39:47.133Z\" title=\"Monday, August 5, 2024 at 11:39:47 AM GMT+7\"><!--?lit$1517846038$-->1 mo. ago</time>, <time datetime=\"2024-08-05T08:58:56.502Z\" title=\"Monday, August 5, 2024 at 3:58:56 PM GMT+7\"><!--?lit$1517846038$-->1mo ago</time>, <time datetime=\"2024-08-05T18:00:28.202Z\" title=\"Tuesday, August 6, 2024 at 1:00:28 AM GMT+7\"><!--?lit$1517846038$-->1mo ago</time>, <time datetime=\"2024-08-06T04:23:34.273Z\" title=\"Tuesday, August 6, 2024 at 11:23:34 AM GMT+7\"><!--?lit$1517846038$-->1mo ago</time>, <time datetime=\"2024-08-05T15:53:06.679Z\" title=\"Monday, August 5, 2024 at 10:53:06 PM GMT+7\"><!--?lit$1517846038$-->1mo ago</time>, <time datetime=\"2024-08-05T18:28:22.877Z\" title=\"Tuesday, August 6, 2024 at 1:28:22 AM GMT+7\"><!--?lit$1517846038$-->1mo ago</time>, <time datetime=\"2024-08-05T11:55:01.824Z\" title=\"Monday, August 5, 2024 at 6:55:01 PM GMT+7\"><!--?lit$1517846038$-->1mo ago</time>, <time datetime=\"2024-08-05T19:15:42.953Z\" title=\"Tuesday, August 6, 2024 at 2:15:42 AM GMT+7\"><!--?lit$1517846038$-->1mo ago</time>, <time datetime=\"2024-08-05T11:55:56.933Z\" title=\"Monday, August 5, 2024 at 6:55:56 PM GMT+7\"><!--?lit$1517846038$-->1mo ago</time>, <time datetime=\"2024-08-06T20:41:10.278Z\" title=\"Wednesday, August 7, 2024 at 3:41:10 AM GMT+7\"><!--?lit$1517846038$-->1mo ago</time>, <time datetime=\"2024-08-07T12:58:47.858Z\" title=\"Wednesday, August 7, 2024 at 7:58:47 PM GMT+7\"><!--?lit$1517846038$-->1mo ago</time>, <time datetime=\"2024-08-09T21:22:01.431Z\" title=\"Saturday, August 10, 2024 at 4:22:01 AM GMT+7\"><!--?lit$1517846038$-->1mo ago</time>, <time datetime=\"2024-08-06T23:04:33.041Z\" title=\"Wednesday, August 7, 2024 at 6:04:33 AM GMT+7\"><!--?lit$1517846038$-->1mo ago</time>, <time datetime=\"2024-08-06T23:30:18.102Z\" title=\"Wednesday, August 7, 2024 at 6:30:18 AM GMT+7\"><!--?lit$1517846038$-->1mo ago</time>, <time datetime=\"2024-08-07T23:22:55.535Z\" title=\"Thursday, August 8, 2024 at 6:22:55 AM GMT+7\"><!--?lit$1517846038$-->1mo ago</time>, <time datetime=\"2024-08-08T00:41:37.930Z\" title=\"Thursday, August 8, 2024 at 7:41:37 AM GMT+7\"><!--?lit$1517846038$-->1mo ago</time>]'''\n",
        "soup = BeautifulSoup(s)\n",
        "for i in soup.findAll('time'):\n",
        "    if i.has_attr('title'):\n",
        "      times.append(i['title'])\n",
        "times"
      ],
      "metadata": {
        "colab": {
          "base_uri": "https://localhost:8080/"
        },
        "id": "vJbRTPDNSmFn",
        "outputId": "133d6d7e-720d-407e-edc8-af15ef1e02ab"
      },
      "execution_count": 43,
      "outputs": [
        {
          "output_type": "execute_result",
          "data": {
            "text/plain": [
              "['Monday, August 5, 2024 at 11:39:47 AM GMT+7',\n",
              " 'Monday, August 5, 2024 at 3:58:56 PM GMT+7',\n",
              " 'Tuesday, August 6, 2024 at 1:00:28 AM GMT+7',\n",
              " 'Tuesday, August 6, 2024 at 11:23:34 AM GMT+7',\n",
              " 'Monday, August 5, 2024 at 10:53:06 PM GMT+7',\n",
              " 'Tuesday, August 6, 2024 at 1:28:22 AM GMT+7',\n",
              " 'Monday, August 5, 2024 at 6:55:01 PM GMT+7',\n",
              " 'Tuesday, August 6, 2024 at 2:15:42 AM GMT+7',\n",
              " 'Monday, August 5, 2024 at 6:55:56 PM GMT+7',\n",
              " 'Wednesday, August 7, 2024 at 3:41:10 AM GMT+7',\n",
              " 'Wednesday, August 7, 2024 at 7:58:47 PM GMT+7',\n",
              " 'Saturday, August 10, 2024 at 4:22:01 AM GMT+7',\n",
              " 'Wednesday, August 7, 2024 at 6:04:33 AM GMT+7',\n",
              " 'Wednesday, August 7, 2024 at 6:30:18 AM GMT+7',\n",
              " 'Thursday, August 8, 2024 at 6:22:55 AM GMT+7',\n",
              " 'Thursday, August 8, 2024 at 7:41:37 AM GMT+7']"
            ]
          },
          "metadata": {},
          "execution_count": 43
        }
      ]
    },
    {
      "cell_type": "code",
      "source": [],
      "metadata": {
        "id": "vKx3zW1RR8Uw"
      },
      "execution_count": 9,
      "outputs": []
    }
  ]
}