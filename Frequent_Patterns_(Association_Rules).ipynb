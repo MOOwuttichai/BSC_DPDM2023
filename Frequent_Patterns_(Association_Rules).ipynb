{
  "nbformat": 4,
  "nbformat_minor": 0,
  "metadata": {
    "colab": {
      "name": "Frequent Patterns (Association Rules).ipynb",
      "provenance": [],
      "include_colab_link": true
    },
    "kernelspec": {
      "name": "python3",
      "display_name": "Python 3"
    },
    "language_info": {
      "name": "python"
    }
  },
  "cells": [
    {
      "cell_type": "markdown",
      "metadata": {
        "id": "view-in-github",
        "colab_type": "text"
      },
      "source": [
        "<a href=\"https://colab.research.google.com/github/MOOwuttichai/BSC_DPDM2023/blob/main/Frequent_Patterns_(Association_Rules).ipynb\" target=\"_parent\"><img src=\"https://colab.research.google.com/assets/colab-badge.svg\" alt=\"Open In Colab\"/></a>"
      ]
    },
    {
      "cell_type": "code",
      "metadata": {
        "id": "KZmRixV_o0Jw"
      },
      "source": [
        "import pandas as pd\n",
        "import os"
      ],
      "execution_count": null,
      "outputs": []
    },
    {
      "cell_type": "code",
      "metadata": {
        "id": "BZaeBFmzp6zA"
      },
      "source": [
        "from google.colab import drive\n",
        "drive.mount('/content/drive')\n",
        "path = '/content/drive/MyDrive/BSC-dpdm23_flie'"
      ],
      "execution_count": null,
      "outputs": []
    },
    {
      "cell_type": "code",
      "metadata": {
        "id": "ikJazGz6qAn7"
      },
      "source": [
        "data = pd.read_csv(os.path.join(path,'reduced_marketbasket.csv'),encoding='latin-1')"
      ],
      "execution_count": null,
      "outputs": []
    },
    {
      "cell_type": "code",
      "metadata": {
        "id": "vVP_s3oxqNnU"
      },
      "source": [
        "data\n",
        "data_test=data"
      ],
      "execution_count": null,
      "outputs": []
    },
    {
      "cell_type": "code",
      "source": [
        "data"
      ],
      "metadata": {
        "id": "qFLtbT9MIIEa"
      },
      "execution_count": null,
      "outputs": []
    },
    {
      "cell_type": "markdown",
      "source": [
        "#Quit1 มีกี่ประเทศ"
      ],
      "metadata": {
        "id": "wpNHg2LiVnkj"
      }
    },
    {
      "cell_type": "code",
      "source": [
        "len(set(data['Country']))"
      ],
      "metadata": {
        "id": "0nvdZa3TVGVg"
      },
      "execution_count": null,
      "outputs": []
    },
    {
      "cell_type": "markdown",
      "source": [
        "#เเปลง data ใก้อยู่ในรูปเเบบ Transaction data ด้วย ```groupby.apply(list) ```"
      ],
      "metadata": {
        "id": "SDV3ROa6WBG7"
      }
    },
    {
      "cell_type": "code",
      "metadata": {
        "id": "tgURZufxqOsX"
      },
      "source": [
        "data.groupby('InvoiceNo')['StockCode'].apply(list)"
      ],
      "execution_count": null,
      "outputs": []
    },
    {
      "cell_type": "code",
      "metadata": {
        "id": "WQJgxn-KuAPL"
      },
      "source": [
        "transactions = data.groupby('InvoiceNo')['StockCode'].apply(list)"
      ],
      "execution_count": null,
      "outputs": []
    },
    {
      "cell_type": "markdown",
      "metadata": {
        "id": "TqkZl7tUsgUT"
      },
      "source": [
        "## Association Rules"
      ]
    },
    {
      "cell_type": "code",
      "metadata": {
        "id": "kxLayaaAtkh8"
      },
      "source": [
        "!pip install apyori"
      ],
      "execution_count": null,
      "outputs": []
    },
    {
      "cell_type": "code",
      "metadata": {
        "id": "MU_DkGZ2sKw_"
      },
      "source": [
        "from apyori import apriori"
      ],
      "execution_count": null,
      "outputs": []
    },
    {
      "cell_type": "code",
      "metadata": {
        "id": "Uwysx9eLtg7H"
      },
      "source": [
        "!pip install apyori\n",
        "from apyori import apriori\n",
        "transactions = data.groupby('InvoiceNo')['StockCode'].apply(list)\n",
        "frequentItemsets = list(apriori(transactions,min_support = 0.065))\n",
        "frequentItemsets"
      ],
      "execution_count": null,
      "outputs": []
    },
    {
      "cell_type": "code",
      "metadata": {
        "id": "Cy62VyRYubh1"
      },
      "source": [
        "len(frequentItemsets)"
      ],
      "execution_count": null,
      "outputs": []
    },
    {
      "cell_type": "code",
      "source": [
        "frequentItemsets[0]"
      ],
      "metadata": {
        "id": "Ncl1-yc2Ycx_"
      },
      "execution_count": null,
      "outputs": []
    },
    {
      "cell_type": "code",
      "source": [
        "frequentItemsets[0][0]"
      ],
      "metadata": {
        "id": "KcLWBRQWmuor"
      },
      "execution_count": null,
      "outputs": []
    },
    {
      "cell_type": "code",
      "source": [
        "dir(frequentItemsets[0][0])"
      ],
      "metadata": {
        "id": "GJl8vZ_dm92S"
      },
      "execution_count": null,
      "outputs": []
    },
    {
      "cell_type": "code",
      "source": [
        "frequentItemsets[0][0].__len__()#หาขนาดของ itemset"
      ],
      "metadata": {
        "id": "XJalbowGoIZJ"
      },
      "execution_count": null,
      "outputs": []
    },
    {
      "cell_type": "code",
      "source": [
        "min_sup = 0.03\n",
        "\n",
        "frequentItemsets = list(apriori(transactions,min_support = min_sup))\n",
        "for i in frequentItemsets:\n",
        "    if i[0].__len__()>1:\n",
        "        print('yes')\n",
        "        print(i)"
      ],
      "metadata": {
        "id": "jM2C0KM3oVNE"
      },
      "execution_count": null,
      "outputs": []
    },
    {
      "cell_type": "markdown",
      "source": [
        "RelationRecord(items=frozenset({'22386', '85099B'}),\n",
        "support=0.03216216216216216,\n",
        "\n",
        "ordered_statistics=[OrderedStatistic(items_base=frozenset(), items_add=frozenset({'22386', '85099B'}), confidence=0.03216216216216216, lift=1.0),\n",
        "\n",
        "OrderedStatistic(items_base=frozenset({'22386'}), items_add=frozenset({'85099B'}), confidence=0.6766856214459789, lift=8.20897311262335),\n",
        "\n",
        "OrderedStatistic(items_base=frozenset({'85099B'}), items_add=frozenset({'22386'}), confidence=0.39016393442622943, lift=8.20897311262335)])\n"
      ],
      "metadata": {
        "id": "G1folVtqpH_v"
      }
    },
    {
      "cell_type": "code",
      "source": [
        "set(data[(data['StockCode']=='22386') | (data['StockCode']=='85099B') | (data['StockCode']=='22699') | (data['StockCode']=='22697') ]['Description'])"
      ],
      "metadata": {
        "id": "OC4mSCPGo19r"
      },
      "execution_count": null,
      "outputs": []
    },
    {
      "cell_type": "markdown",
      "source": [
        "#HW 1 หา Frequent Item Set เเละ Association Rules\n",
        "* ของช่วงเวลา Christmas & New Year (1 Dec - 31 Dec)\n",
        "* ของประเทศในทวีป Europe\n",
        "* ของช่วงเวลา ตรุษจีน ในทวีป Asia (15 jan - 15 Feb)\n",
        "* ของช่วงเวลา Christmas & New Year ในทวีป Europe(1 Dec - 31 Dec)\n",
        "* ของวันวาเลนไทน์ (14 Feb)\n",
        "* จัดกลุ่มตามประเทศ+เดิอน"
      ],
      "metadata": {
        "id": "OxA01OxGc6Sp"
      }
    },
    {
      "cell_type": "markdown",
      "source": [
        "##1.ของช่วงเวลา Christmas & New Year (1 Dec - 31 Dec)"
      ],
      "metadata": {
        "id": "8DLTBpJoflFY"
      }
    },
    {
      "cell_type": "markdown",
      "source": [
        "###เเยกวันเดือนปีออกจากเวลา"
      ],
      "metadata": {
        "id": "aH9OGSFnK85h"
      }
    },
    {
      "cell_type": "code",
      "source": [
        "data['InvoiceDate'][0].split()[0]"
      ],
      "metadata": {
        "id": "7i_uDjsyipdD"
      },
      "execution_count": null,
      "outputs": []
    },
    {
      "cell_type": "code",
      "source": [
        "date =[]\n",
        "for i in range(len(data['InvoiceDate'])):\n",
        "  x = data['InvoiceDate'][i].split()[0]\n",
        "  date.append(x)\n",
        "#set(L)"
      ],
      "metadata": {
        "id": "vTqWjasxftc3"
      },
      "execution_count": null,
      "outputs": []
    },
    {
      "cell_type": "code",
      "source": [
        "date[0].split('/')"
      ],
      "metadata": {
        "id": "XCsoxDOxI4qC"
      },
      "execution_count": null,
      "outputs": []
    },
    {
      "cell_type": "markdown",
      "source": [
        "###เเยกวัน เดือน ปีออกจากกกัน"
      ],
      "metadata": {
        "id": "yJsOkWNpLJPo"
      }
    },
    {
      "cell_type": "code",
      "source": [
        "day =[]\n",
        "month =[]\n",
        "year =[]\n",
        "for i in range(len(data['InvoiceDate'])):\n",
        "  x = date[i].split('/')[0]\n",
        "  y = date[i].split('/')[1]\n",
        "  z = date[i].split('/')[2]\n",
        "  day.append(x)\n",
        "  month.append(y)\n",
        "  year.append(z)"
      ],
      "metadata": {
        "id": "nxketEqGJSDo"
      },
      "execution_count": null,
      "outputs": []
    },
    {
      "cell_type": "markdown",
      "source": [
        "###ใส่ดาต้าใหม่"
      ],
      "metadata": {
        "id": "rMRKBpTpLObZ"
      }
    },
    {
      "cell_type": "code",
      "source": [
        "data_test['date']=date\n",
        "data_test['day']=day\n",
        "data_test['month']=month\n",
        "data_test['year']=year"
      ],
      "metadata": {
        "id": "Yd3uW_A9KJe0"
      },
      "execution_count": null,
      "outputs": []
    },
    {
      "cell_type": "code",
      "source": [
        "data_test"
      ],
      "metadata": {
        "id": "pGlaTNAOK5S5"
      },
      "execution_count": null,
      "outputs": []
    },
    {
      "cell_type": "markdown",
      "source": [
        "###เริ่มทำข้อ 1\n"
      ],
      "metadata": {
        "id": "BJ8LalTSLiuW"
      }
    },
    {
      "cell_type": "code",
      "source": [
        "data_C_and_N = data_test[data_test['month']=='12']"
      ],
      "metadata": {
        "id": "MDOFLLqRLl0Q"
      },
      "execution_count": null,
      "outputs": []
    },
    {
      "cell_type": "code",
      "source": [
        "!pip install apyori\n",
        "from apyori import apriori\n",
        "\n"
      ],
      "metadata": {
        "id": "ICeqq5JvP1zB"
      },
      "execution_count": null,
      "outputs": []
    },
    {
      "cell_type": "code",
      "source": [
        "transactionsC_and_N = data_C_and_N.groupby('InvoiceNo')['StockCode'].apply(list)"
      ],
      "metadata": {
        "id": "nAuXbq9zVT_1"
      },
      "execution_count": null,
      "outputs": []
    },
    {
      "cell_type": "code",
      "source": [
        "frequentItemsets = list(apriori(transactionsC_and_N,min_support = 0.05))\n",
        "#frequentItemsets"
      ],
      "metadata": {
        "id": "vNjUbX_DQvMS"
      },
      "execution_count": null,
      "outputs": []
    },
    {
      "cell_type": "code",
      "source": [
        "min_sup = 0.03\n",
        "\n",
        "frequentItemsetsC_and_N = list(apriori(transactionsC_and_N,min_support = min_sup))\n",
        "for i in frequentItemsetsC_and_N:\n",
        "    if i[0].__len__()>1:\n",
        "        print('yes')\n",
        "        print(i)"
      ],
      "metadata": {
        "id": "oY7qBN4kUJKN"
      },
      "execution_count": null,
      "outputs": []
    },
    {
      "cell_type": "markdown",
      "source": [
        "สรุปได้ดังนั้น\n",
        "* RelationRecord(items=frozenset({'20725', '22383'}), support=0.031203566121842496)\n",
        "  * ordered_statistics=OrderedStatistic(items_base=frozenset(), items_add=frozenset({'20725', '22383'}), confidence=0.031203566121842496, lift=1.0)\n",
        "  * OrderedStatistic(items_base=frozenset({'20725'}), items_add=frozenset({'22383'}), confidence=0.4666666666666667, lift=9.237254901960783)\n",
        "  * OrderedStatistic(items_base=frozenset({'22383'}), items_add=frozenset({'20725'}), confidence=0.6176470588235294, lift=9.237254901960785)\n",
        "* RelationRecord(items=frozenset({'22697', '22699'}), support=0.03417533432392273)\n",
        "  * ordered_statistics=OrderedStatistic(items_base=frozenset(), items_add=frozenset({'22697', '22699'}), confidence=0.03417533432392273, lift=1.0)\n",
        "  * OrderedStatistic(items_base=frozenset({'22697'}), items_add=frozenset({'22699'}), confidence=0.7666666666666666, lift=18.42738095238095)\n",
        "  * OrderedStatistic(items_base=frozenset({'22699'}), items_add=frozenset({'22697'}), confidence=0.8214285714285714, lift=18.42738095238095)"
      ],
      "metadata": {
        "id": "dFtl5Qn6WVz2"
      }
    },
    {
      "cell_type": "markdown",
      "source": [
        "###5.ของวันวาเลนไทน์ (14 Feb)"
      ],
      "metadata": {
        "id": "yazR4wqZZRx_"
      }
    },
    {
      "cell_type": "code",
      "source": [
        "data_test[(data_test['month']=='02')]"
      ],
      "metadata": {
        "id": "vBGsVI3DaKv5"
      },
      "execution_count": null,
      "outputs": []
    },
    {
      "cell_type": "code",
      "source": [
        "data_va = data_test[(data_test['month']=='02')and(data_test['day']=='14')]"
      ],
      "metadata": {
        "id": "FcTXxivRZePS"
      },
      "execution_count": null,
      "outputs": []
    },
    {
      "cell_type": "code",
      "source": [
        "data_va"
      ],
      "metadata": {
        "id": "ZWMYPCgpZ868"
      },
      "execution_count": null,
      "outputs": []
    },
    {
      "cell_type": "markdown",
      "source": [
        "#quiz 22386 เเละ 85099B คือสินค้าอะไร"
      ],
      "metadata": {
        "id": "SHBtdI2Bbcsj"
      }
    },
    {
      "cell_type": "code",
      "source": [
        "set(data[data['StockCode']=='22386']['Description'])"
      ],
      "metadata": {
        "id": "OWs9BZxNa_tW"
      },
      "execution_count": null,
      "outputs": []
    },
    {
      "cell_type": "code",
      "source": [
        "set(data[data['StockCode']=='85099B']['Description'])"
      ],
      "metadata": {
        "id": "HhxDp95pbOpo"
      },
      "execution_count": null,
      "outputs": []
    },
    {
      "cell_type": "markdown",
      "source": [
        "RelationRecord(items=frozenset({'22699', '22697'}), support=0.03027027027027027,\n",
        "\n",
        "ordered_statistics=[OrderedStatistic(items_base=frozenset(), items_add=frozenset({'22699', '22697'}), confidence=0.03027027027027027, lift=1.0),\n",
        "\n",
        "OrderedStatistic(items_base=frozenset({'22697'}), items_add=frozenset({'22699'}), confidence=0.7417218543046358, lift=17.1523178807947),\n",
        "\n",
        "OrderedStatistic(items_base=frozenset({'22699'}), items_add=frozenset({'22697'}), confidence=0.7, lift=17.1523178807947)])"
      ],
      "metadata": {
        "id": "dYvCIbEVtyZy"
      }
    },
    {
      "cell_type": "code",
      "source": [
        "set(data[(data['StockCode']=='22699') | (data['StockCode']=='22697')]['InvoiceNo'])"
      ],
      "metadata": {
        "id": "E7jOT-C3tYD0"
      },
      "execution_count": null,
      "outputs": []
    },
    {
      "cell_type": "code",
      "source": [
        "data[data['InvoiceNo']=='562950']"
      ],
      "metadata": {
        "id": "HazWszWkuW2o"
      },
      "execution_count": null,
      "outputs": []
    },
    {
      "cell_type": "code",
      "source": [],
      "metadata": {
        "id": "UM3J5NCEu7YR"
      },
      "execution_count": null,
      "outputs": []
    }
  ]
}